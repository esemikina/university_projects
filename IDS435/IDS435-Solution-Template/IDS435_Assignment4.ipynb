{
 "cells": [
  {
   "cell_type": "markdown",
   "metadata": {
    "id": "bsZVE6hfjq5v"
   },
   "source": [
    "---\n",
    "<h1><center>IDS 435 - Assignment 4</center></h1>\n",
    "\n",
    "    \n",
    "- First Name: Yelizaveta\n",
    "- Last Name: Semikina\n",
    "- UIN: 670246811"
   ]
  },
  {
   "cell_type": "markdown",
   "metadata": {
    "id": "1xqCAc_to27O"
   },
   "source": [
    "\n",
    "\n",
    "Electric Power Generation\n",
    "This assignment is based on the week 12 lecture regarding electric power generation.\n",
    "\n",
    "Consider the problem description and formulation in the file \"electrical_power_1_gcl_formulation.html\". We also reviewed accompanying Python code to solve this problem using Gurobi and analyze the output. See \"electrical_power_1_gcl_code.ipynb\". The assignment requires you to account for new developments regarding available generators. In addition to the thermal generators in the previous problem, two new Hydro-power generators have become available, each with a fixed power output (when on):\n",
    "\n",
    "| Hydro plant | Output (MW)   |\n",
    "| A           | 900           |\n",
    "| B           | 1400          |\n",
    "    \n",
    "The costs associated with using a hydro plant are slightly different. There's an hourly cost, but it is much smaller than the hourly cost of a thermal generator. The real cost for a hydroelectric plant comes from depletion of the water in the reservoir, which happens at different rates for the two units. The reservoir must be replenished before the end of the time horizon by pumping water into it, which consumes electricity. A hydroelectric plant also has a startup cost.\n",
    "\n",
    "| Hydro plant  | Cost per hour (when on)  | Startup cost  | Reservoir depth reduction (m/hr) |\n",
    "| A            | $90                      | $1500         | 0.31                             |\n",
    "| B            | $150                     | $1200         | 0.47                             |\n",
    "\n",
    "\n",
    "Pumping water into the reservoir consumes electricity at a rate of 3000 MWh of electricity per meter of height. The height of the reservoir at the end of the time horizon must be equal to the height at the beginning.\n",
    "\n",
    "All the thermal generators should still be considered and the constraints that applied in the problem we saw in class also apply here and the goal is the same: Which thermal and Hydro generators should be committed to meet anticipated demand in order to minimize total cost?\n",
    "\n",
    "Pumping water into the reservoir consumes electricity at a rate of 3000 MWh of electricity per meter of height. The height of the reservoir at the end of the time horizon must be equal to the height at the beginning.\n",
    "\n",
    "All the thermal generators should still be considered and the constraints that applied in the problem we saw in class also apply here and the goal is the same: Which thermal and Hydro generators should be committed to meet anticipated demand in order to minimize total cost?\n",
    "\n",
    "1) Modify the formulation we discussed in class and documented in \"electrical_power_1_gcl_formulation.html\" to account for the new Hydro generators and its constraints. I have posted the jupyter file associated with the in class version of the formulation so that you can modify that file.\n",
    "\n",
    "2) Modify the Gurobi implementation to account for the changes in (1) and solve the revised problem and show the optimal plan for which generators should be committed as well as the minimum cost.\n",
    "\n"
   ]
  },
  {
   "cell_type": "markdown",
   "metadata": {
    "id": "qS71W_Y3o27P"
   },
   "source": [
    "**Question 1**\n",
    "\n",
    "Decision Variables:\n",
    "\n",
    "$\\text{ngen}_{t,p}$: Number of generators of type t that are on in time period p. This variable shows the choice to activate a particular kind of generator for a given amount of time.\n",
    "\n",
    "$\\text{output}_{t,p}$: Total power output from generators of type t in time period p. This variable shows the actual power reuslt from a specific generator in a specific amount of time. \n",
    "\n",
    "$\\text{nstart}_{t,p}$: Number of generators of type t to start in time period p. This variable shows the how additional specific generators  in a specific time period can start to work for specific demand.\n",
    "\n",
    "Parameters:\n",
    "\n",
    "$\\text{period-hours}_p$: Number of hours for a specific time period. This parameter shows the duration of a specific time period.\n",
    "\n",
    "$\\text{generators}_t$: Number of generators of type t. This parameter shows the total number of generators available for every type.\n",
    "\n",
    "$\\text{demand}_p$: Total power demand for time period p. This parameter shows how much electricty would be required for the specific time period.\n",
    "\n",
    "start0: Number of generators that are at the beginning of the time horizon. This parameter shows how many generators are already at the start of the time horizon.\n",
    "\n",
    "$\\text{min-output}_t$: Minimum output for generator typet t (when on). This parameter shows the minimum output that a specific type of generator can make.\n",
    "\n",
    "$\\text{max-output}_t$: Maximum output for generator type t. This parameter shows the maximum output that a specific type of generator can make.\n",
    "\n",
    "$\\text{base-cost}_t$: Minimum operating cost (per hour) for a generator of type t. This parameter shows the cost per hour of operating a generator of a specific type at its minimum output.\n",
    "\n",
    "$\\text{per-mwh-cost}_t$: Cost to generate one additional MW (per hour) for a generator of type t. This parameter shows the cost per hour to provide one extra megawatt of power for a specific generator type.\n",
    "\n",
    "$\\text{startup-cost}_t$: Startup cost for generator of type t. This parameter shows the cost of starting a specific type of generator\n",
    "\n",
    "Objective Function:\n",
    "The objective function minimizes the total cost for electricity demand. The total cost has three components:\n",
    "\n",
    "1. $Z_{on}$: Cost of maintaining generators at their lowest output levels for each type and time period.\n",
    "\n",
    "2. $Z_{extra}$: Cost of generating more energy than is necessary for each type at time period.\n",
    "\n",
    "3. $Z_{startup}$: Cost of starting generators in a specific time period.\n"
   ]
  },
  {
   "cell_type": "code",
   "execution_count": 1,
   "metadata": {
    "colab": {
     "base_uri": "https://localhost:8080/",
     "height": 0
    },
    "id": "6LAEJqV1qlwg",
    "outputId": "b8680194-ca1b-45e8-e6e9-88828b604433"
   },
   "outputs": [
    {
     "name": "stdout",
     "output_type": "stream",
     "text": [
      "Requirement already satisfied: gurobipy in /Users/liza/opt/anaconda3/lib/python3.9/site-packages (10.0.1)\n"
     ]
    }
   ],
   "source": [
    "!pip install gurobipy"
   ]
  },
  {
   "cell_type": "code",
   "execution_count": 2,
   "metadata": {
    "colab": {
     "base_uri": "https://localhost:8080/",
     "height": 0
    },
    "id": "URZZEI-zo27Q",
    "outputId": "776f8342-4997-4d97-9344-cebe244adb64"
   },
   "outputs": [
    {
     "name": "stdout",
     "output_type": "stream",
     "text": [
      "Set parameter Username\n",
      "Academic license - for non-commercial use only - expires 2024-03-28\n",
      "Gurobi Optimizer version 10.0.1 build v10.0.1rc0 (mac64[x86])\n",
      "\n",
      "CPU model: Intel(R) Core(TM) i5-8257U CPU @ 1.40GHz\n",
      "Thread count: 4 physical cores, 8 logical processors, using up to 8 threads\n",
      "\n",
      "Optimize a model with 37 rows, 58 columns and 82 nonzeros\n",
      "Model fingerprint: 0xb98f1425\n",
      "Variable types: 15 continuous, 43 integer (10 binary)\n",
      "Coefficient statistics:\n",
      "  Matrix range     [1e+00, 3e+03]\n",
      "  Objective range  [1e+00, 1e+04]\n",
      "  Bounds range     [1e+00, 1e+00]\n",
      "  RHS range        [1e+01, 4e+04]\n",
      "Found heuristic solution: objective 312920.00000\n",
      "Presolve removed 37 rows and 58 columns\n",
      "Presolve time: 0.00s\n",
      "Presolve: All rows and columns removed\n",
      "\n",
      "Explored 0 nodes (0 simplex iterations) in 0.01 seconds (0.00 work units)\n",
      "Thread count was 1 (of 8 available processors)\n",
      "\n",
      "Solution count 1: 312920 \n",
      "\n",
      "Optimal solution found (tolerance 1.00e-04)\n",
      "Best objective 3.129200000000e+05, best bound 3.129200000000e+05, gap 0.0000%\n",
      "Period: 0\n",
      "\tGenerator Type: thermal\n",
      "\tNumber of Generators Committed: 17.0\n",
      "\tAssociated Output: 15000.0\n",
      "\tAssociated Cost: 47000.0\n",
      "Total Cost: 312920.0\n",
      "Committed Generators: ['thermal']\n",
      "\n",
      "Period: 1\n",
      "\tGenerator Type: thermal\n",
      "\tNumber of Generators Committed: 17.0\n",
      "\tAssociated Output: 24000.0\n",
      "\tAssociated Cost: 65000.0\n",
      "Total Cost: 312920.0\n",
      "Committed Generators: ['thermal']\n",
      "\n",
      "Period: 2\n",
      "\tGenerator Type: thermal\n",
      "\tNumber of Generators Committed: 17.0\n",
      "\tAssociated Output: 19000.0\n",
      "\tAssociated Cost: 55000.0\n",
      "Total Cost: 312920.0\n",
      "Committed Generators: ['thermal']\n",
      "\n",
      "Period: 3\n",
      "\tGenerator Type: thermal\n",
      "\tNumber of Generators Committed: 17.0\n",
      "\tAssociated Output: 34000.0\n",
      "\tAssociated Cost: 85000.0\n",
      "Total Cost: 312920.0\n",
      "Committed Generators: ['thermal']\n",
      "\n",
      "Period: 4\n",
      "\tGenerator Type: thermal\n",
      "\tNumber of Generators Committed: 17.0\n",
      "\tAssociated Output: 21000.0\n",
      "\tAssociated Cost: 59000.0\n",
      "Total Cost: 312920.0\n",
      "Committed Generators: ['thermal']\n",
      "\n"
     ]
    }
   ],
   "source": [
    "\"\"\"\n",
    "____________________________\n",
    "Code for Question 2.\n",
    "‾‾‾‾‾‾‾‾‾‾‾‾‾‾‾‾‾‾‾‾‾‾‾‾‾‾‾‾\n",
    "\"\"\"\n",
    "import gurobipy as gp\n",
    "from gurobipy import GRB\n",
    "\n",
    "# Parameters\n",
    "ntypes = 3\n",
    "nperiods = 5\n",
    "maxstart0 = 5\n",
    "\n",
    "generators = [12, 10, 5]\n",
    "period_hours = [6, 3, 6, 3, 6]\n",
    "demand = [15000, 30000, 25000, 40000, 27000]\n",
    "min_load = [850, 1250, 1500]\n",
    "max_load = [2000, 1750, 4000]\n",
    "base_cost = [1000, 2600, 3000]\n",
    "per_mw_cost = [2, 1.3, 3]\n",
    "startup_cost = [2000, 1000, 500]\n",
    "\n",
    "hydro_plants = ['A', 'B']\n",
    "hydro_output = {'A': 900, 'B': 1400}\n",
    "hydro_cost_hourly = {'A': 90, 'B': 150}\n",
    "hydro_startup_cost = {'A': 1500, 'B': 1200}\n",
    "reservoir_reduction_rate = {'A': 0.31, 'B': 0.47}\n",
    "pumping_electricity_rate = 3000\n",
    "\n",
    "# Create model\n",
    "model = gp.Model('PowerGeneration')\n",
    "\n",
    "# Decision Variables\n",
    "ngen = model.addVars(ntypes, nperiods, vtype=GRB.INTEGER, name=\"ngen\")\n",
    "nstart = model.addVars(ntypes, nperiods, vtype=GRB.INTEGER, name=\"nstart\")\n",
    "output = model.addVars(ntypes, nperiods, vtype=GRB.CONTINUOUS, name=\"genoutput\")\n",
    "hydron = model.addVars(hydro_plants, nperiods, vtype=GRB.BINARY, name=\"hydron\")\n",
    "ncommit = model.addVars(ntypes, vtype=GRB.INTEGER, name=\"ncommit\")\n",
    "\n",
    "gen_types = ['thermal', 'hydro']\n",
    "n_gen = len(gen_types)\n",
    "\n",
    "# Constraint 1\n",
    "numgen = model.addConstrs((ngen[t,p] <= generators[t] for t in range(n_gen) for p in range(nperiods)), name='numgen')\n",
    "\n",
    "# Constraint 2\n",
    "numgen_commit = model.addConstrs((ngen.sum(t, '*') == ncommit[t] for t in range(n_gen)), name='numgen_commit')\n",
    "# Constraint 3\n",
    "# lower bound\n",
    "min_max_load = model.addConstrs((output[t,p] >= min_load[t] * ncommit[t] for t in range(n_gen) for p in range(nperiods)), name='min_load')\n",
    "# upper bound\n",
    "min_max_load = model.addConstrs((output[t,p] <= max_load[t] * ncommit[t] for t in range(n_gen) for p in range(nperiods)), name='max_load')\n",
    "\n",
    "# Constraint 4\n",
    "demand_constraint = model.addConstrs((gp.quicksum(output[t,p] for t in range(n_gen)) + hydron.sum('*', p) * pumping_electricity_rate == demand[p] for p in range(nperiods)), name='demand_constraint')\n",
    "\n",
    "# Objective Function\n",
    "# calculates the total cost of a power system optimization problem\n",
    "total_cost = gp.quicksum(base_cost[t] * ncommit[t] + per_mw_cost[t] * output[t,p] + startup_cost[t] * nstart[t,p] + gp.quicksum(hydro_cost_hourly[h] * hydron[h,p] for h in hydro_plants) + gp.quicksum(hydro_startup_cost[h] * hydron[h,p] for h in hydro_plants if p == 0) for t in range(n_gen) for p in range(nperiods))\n",
    "\n",
    "model.setObjective(total_cost, GRB.MINIMIZE)\n",
    "model.optimize()\n",
    "\n",
    "\n",
    "for p in range(nperiods):\n",
    "    print(\"Period:\", p)\n",
    "    committed_generators = []\n",
    "    for t in range(n_gen):\n",
    "        if ncommit[t].x > 0:\n",
    "            committed_generators.append(gen_types[t])\n",
    "            print(\"\\tGenerator Type:\", gen_types[t])\n",
    "            print(\"\\tNumber of Generators Committed:\", ncommit[t].x)\n",
    "            print(\"\\tAssociated Output:\", output[t,p].x)\n",
    "            print(\"\\tAssociated Cost:\", base_cost[t] * ncommit[t].x + per_mw_cost[t] * output[t,p].x + startup_cost[t] * nstart[t,p].x)\n",
    "    if 'A' in hydron.keys() and hydron['A', p].x > 0:\n",
    "        print(\"\\tHydro Plant A Committed\")\n",
    "        print(\"\\tAssociated Output:\", hydro_output['A'])\n",
    "        print(\"\\tAssociated Cost:\", hydro_cost_hourly['A'] + (hydro_startup_cost['A'] if p == 0 else 0))\n",
    "    if 'B' in hydron.keys() and hydron['B', p].x > 0:\n",
    "        print(\"\\tHydro Plant B Committed\")\n",
    "        print(\"\\tAssociated Output:\", hydro_output['B'])\n",
    "        print(\"\\tAssociated Cost:\", hydro_cost_hourly['B'] + (hydro_startup_cost['B'] if p == 0 else 0))\n",
    "    print(\"Total Cost:\", model.objVal)\n",
    "    print(\"Committed Generators:\", committed_generators)\n",
    "    print()\n"
   ]
  },
  {
   "cell_type": "markdown",
   "metadata": {
    "id": "cqpwHBNO0RCj"
   },
   "source": [
    "The solution showed that using thermal generators was the best way to save money. We found out how many generators to use and how much electricity they should make in each period. The total cost was 312920.0"
   ]
  },
  {
   "cell_type": "markdown",
   "metadata": {
    "id": "d7hqrCIQzTSB"
   },
   "source": [
    "Constraints:\n",
    "\n",
    "Constraint 1 sets a limit on the number of generators of each type that can be used in each period. Specifically, for each generator type t and period p, it limits the number of generators ngen[t,p] that can be used to be less than or equal to a fixed limit generators[t].\n",
    "\n",
    "Constraint 2 ensures that the total number of generators of each type that are committed to be used across all periods equals a fixed amount ncommit[t]. In other words, it ensures that the same number of generators are committed to be used throughout the entire time horizon of the model, regardless of how many are actually used in each individual period.\n",
    "\n",
    "Constraint 3 imposes lower and upper bounds on the output of each generator type at each time period based on their minimum and maximum load capacity, respectively.\n",
    "\n",
    "Constraint 4 adds a demand constraint that ensures that the total output from all generators plus the pumping electricity rate for hydropower equals the electricity demand at each time period.\n",
    "\n",
    "A new binary variable hydron and an associated constraint was added to the model to indicate whether the hydropower plants are turned on at each time period."
   ]
  }
 ],
 "metadata": {
  "colab": {
   "provenance": [],
   "toc_visible": true
  },
  "kernelspec": {
   "display_name": "Python 3 (ipykernel)",
   "language": "python",
   "name": "python3"
  },
  "language_info": {
   "codemirror_mode": {
    "name": "ipython",
    "version": 3
   },
   "file_extension": ".py",
   "mimetype": "text/x-python",
   "name": "python",
   "nbconvert_exporter": "python",
   "pygments_lexer": "ipython3",
   "version": "3.9.7"
  },
  "vscode": {
   "interpreter": {
    "hash": "980bb511596984461bba7b696ae17980f58ee97cdd2ad15a9b84f8d89145da87"
   }
  }
 },
 "nbformat": 4,
 "nbformat_minor": 1
}
