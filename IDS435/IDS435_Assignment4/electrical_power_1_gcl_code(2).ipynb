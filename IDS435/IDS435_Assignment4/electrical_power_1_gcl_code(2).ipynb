{
 "cells": [
  {
   "attachments": {},
   "cell_type": "markdown",
   "metadata": {},
   "source": [
    "# Electrical Power Generation (Base)"
   ]
  },
  {
   "cell_type": "code",
   "execution_count": 21,
   "metadata": {},
   "outputs": [
    {
     "name": "stdout",
     "output_type": "stream",
     "text": [
      "Requirement already satisfied: gurobipy in c:\\programdata\\anaconda3\\lib\\site-packages (10.0.1)\n",
      "Note: you may need to restart the kernel to use updated packages.\n"
     ]
    }
   ],
   "source": [
    "%pip install gurobipy"
   ]
  },
  {
   "cell_type": "code",
   "execution_count": 22,
   "metadata": {},
   "outputs": [],
   "source": [
    "import pandas as pd\n",
    "\n",
    "import gurobipy as gp\n",
    "from gurobipy import GRB\n",
    "\n",
    "# tested with Python 3.7.0 & Gurobi 9.0"
   ]
  },
  {
   "cell_type": "markdown",
   "metadata": {},
   "source": [
    "## Input Data\n",
    "We define all the input data of the model."
   ]
  },
  {
   "cell_type": "code",
   "execution_count": 23,
   "metadata": {},
   "outputs": [],
   "source": [
    "# Parameters\n",
    "\n",
    "ntypes = 3\n",
    "nperiods = 5\n",
    "maxstart0 = 5\n",
    "\n",
    "generators = [12, 10, 5]\n",
    "period_hours = [6, 3, 6, 3, 6]\n",
    "demand = [15000, 30000, 25000, 40000, 27000]\n",
    "min_load = [850, 1250, 1500]\n",
    "max_load = [2000, 1750, 4000]\n",
    "base_cost = [1000, 2600, 3000]\n",
    "per_mw_cost = [2, 1.3, 3]\n",
    "startup_cost = [2000, 1000, 500]"
   ]
  },
  {
   "cell_type": "markdown",
   "metadata": {},
   "source": [
    "## Model Deployment\n",
    "\n",
    "We create a model and the variables. For each time period, we have: an integer decision variable to capture the number of active generators of each type (ngen), an integer variable to capture the number of generators of each type we must start (nstart), and a continuous decision variable to capture the total power output for each generator type (output)."
   ]
  },
  {
   "cell_type": "code",
   "execution_count": 24,
   "metadata": {},
   "outputs": [],
   "source": [
    "model = gp.Model('PowerGeneration')\n",
    "ngen = model.addVars(ntypes, nperiods, vtype=GRB.INTEGER, name=\"ngen\")\n",
    "nstart = model.addVars(ntypes, nperiods, vtype=GRB.INTEGER, name=\"nstart\")\n",
    "output = model.addVars(ntypes, nperiods, vtype=GRB.CONTINUOUS, name=\"genoutput\")"
   ]
  },
  {
   "cell_type": "markdown",
   "metadata": {},
   "source": [
    "Next we insert the constraints:\n",
    "\n",
    "The number of active generators can't exceed the number of generators."
   ]
  },
  {
   "cell_type": "code",
   "execution_count": 25,
   "metadata": {},
   "outputs": [],
   "source": [
    "# Generator count\n",
    "\n",
    "numgen = model.addConstrs(ngen[type, period] <= generators[type]\n",
    "                         for type in range(ntypes) for period in range(nperiods))"
   ]
  },
  {
   "cell_type": "markdown",
   "metadata": {},
   "source": [
    "Total power output for a generator type depends on the number of generators of that type that are active."
   ]
  },
  {
   "cell_type": "code",
   "execution_count": 26,
   "metadata": {},
   "outputs": [],
   "source": [
    "# Respect minimum and maximum output per generator type\n",
    "\n",
    "min_output = model.addConstrs((output[type, period] >= min_load[type] * ngen[type, period])\n",
    "                              for type in range(ntypes) for period in range(nperiods))\n",
    "\n",
    "max_output = model.addConstrs((output[type, period] <= max_load[type] * ngen[type, period])\n",
    "                              for type in range(ntypes) for period in range(nperiods))"
   ]
  },
  {
   "cell_type": "markdown",
   "metadata": {},
   "source": [
    "Total output for each time period must meet predicted demand."
   ]
  },
  {
   "cell_type": "code",
   "execution_count": 27,
   "metadata": {},
   "outputs": [],
   "source": [
    "# Meet demand\n",
    "\n",
    "meet_demand = model.addConstrs(gp.quicksum(output[type, period] for type in range(ntypes)) >= demand[period]\n",
    "                               for period in range(nperiods))"
   ]
  },
  {
   "cell_type": "markdown",
   "metadata": {},
   "source": [
    "Selected generators must be able to cope with an excess of demand."
   ]
  },
  {
   "cell_type": "code",
   "execution_count": 28,
   "metadata": {},
   "outputs": [],
   "source": [
    "# Provide sufficient reserve capacity\n",
    "\n",
    "reserve = model.addConstrs(gp.quicksum(max_load[type]*ngen[type, period] for type in range(ntypes)) >= 1.15*demand[period]\n",
    "                    for period in range(nperiods))"
   ]
  },
  {
   "cell_type": "markdown",
   "metadata": {},
   "source": [
    "Connect the decision variables that capture active generators with the decision variables that count startups."
   ]
  },
  {
   "cell_type": "code",
   "execution_count": 29,
   "metadata": {},
   "outputs": [],
   "source": [
    "# Startup constraint\n",
    "\n",
    "startup0 = model.addConstrs((ngen[type,0] <= maxstart0 + nstart[type,0])\n",
    "                            for type in range(ntypes))\n",
    "\n",
    "startup = model.addConstrs((ngen[type,period] <= ngen[type,period-1] + nstart[type,period])\n",
    "                           for type in range(ntypes) for period in range(1,nperiods))"
   ]
  },
  {
   "cell_type": "markdown",
   "metadata": {},
   "source": [
    "Objective: minimize total cost.  Cost consists of three components: the cost for running active generation units, the cost to generate power beyond the minimum for each unit, and the cost to start up generation units."
   ]
  },
  {
   "cell_type": "code",
   "execution_count": 30,
   "metadata": {},
   "outputs": [],
   "source": [
    "# Objective: minimize total cost\n",
    "\n",
    "active = gp.quicksum(base_cost[type]*period_hours[period]*ngen[type,period]\n",
    "                    for type in range(ntypes) for period in range(nperiods))\n",
    "\n",
    "per_mw = gp.quicksum(per_mw_cost[type]*period_hours[period]*(output[type,period] - min_load[type]*ngen[type,period])\n",
    "                       for type in range(ntypes) for period in range(nperiods))\n",
    "\n",
    "startup_obj = gp.quicksum(startup_cost[type]*nstart[type,period]\n",
    "                         for type in range(ntypes) for period in range(nperiods))\n",
    "\n",
    "model.setObjective(active + per_mw + startup_obj)"
   ]
  },
  {
   "cell_type": "markdown",
   "metadata": {},
   "source": [
    "Next, we start the optimization and Gurobi finds the optimal solution."
   ]
  },
  {
   "cell_type": "code",
   "execution_count": 31,
   "metadata": {},
   "outputs": [
    {
     "name": "stdout",
     "output_type": "stream",
     "text": [
      "Gurobi Optimizer version 10.0.1 build v10.0.1rc0 (win64)\n",
      "\n",
      "CPU model: Intel(R) Core(TM) i7-1065G7 CPU @ 1.30GHz, instruction set [SSE2|AVX|AVX2|AVX512]\n",
      "Thread count: 4 physical cores, 8 logical processors, using up to 8 threads\n",
      "\n",
      "Optimize a model with 70 rows, 45 columns and 147 nonzeros\n",
      "Model fingerprint: 0xd010fb19\n",
      "Variable types: 15 continuous, 30 integer (0 binary)\n",
      "Coefficient statistics:\n",
      "  Matrix range     [1e+00, 4e+03]\n",
      "  Objective range  [4e+00, 9e+03]\n",
      "  Bounds range     [0e+00, 0e+00]\n",
      "  RHS range        [5e+00, 5e+04]\n",
      "Presolve removed 16 rows and 1 columns\n",
      "Presolve time: 0.00s\n",
      "Presolved: 54 rows, 44 columns, 130 nonzeros\n",
      "Variable types: 0 continuous, 44 integer (0 binary)\n",
      "Found heuristic solution: objective 1123913.3000\n",
      "Found heuristic solution: objective 1084300.0000\n",
      "\n",
      "Root relaxation: objective 9.995143e+05, 23 iterations, 0.00 seconds (0.00 work units)\n",
      "\n",
      "    Nodes    |    Current Node    |     Objective Bounds      |     Work\n",
      " Expl Unexpl |  Obj  Depth IntInf | Incumbent    BestBd   Gap | It/Node Time\n",
      "\n",
      "     0     0 999514.286    0    7 1084300.00 999514.286  7.82%     -    0s\n",
      "H    0     0                    1009430.8000 999514.286  0.98%     -    0s\n",
      "H    0     0                    1006720.0000 999514.286  0.72%     -    0s\n",
      "H    0     0                    1005970.0000 999514.286  0.64%     -    0s\n",
      "H    0     0                    1005697.9000 999514.286  0.61%     -    0s\n",
      "H    0     0                    1002540.0000 999514.286  0.30%     -    0s\n",
      "     0     0     cutoff    0      1002540.00 1002540.00  0.00%     -    0s\n",
      "\n",
      "Cutting planes:\n",
      "  MIR: 4\n",
      "  StrongCG: 1\n",
      "\n",
      "Explored 1 nodes (28 simplex iterations) in 0.06 seconds (0.00 work units)\n",
      "Thread count was 8 (of 8 available processors)\n",
      "\n",
      "Solution count 7: 1.00254e+06 1.0057e+06 1.00597e+06 ... 1.12391e+06\n",
      "\n",
      "Optimal solution found (tolerance 1.00e-04)\n",
      "Best objective 1.002540000000e+06, best bound 1.002540000000e+06, gap 0.0000%\n"
     ]
    }
   ],
   "source": [
    "model.write('junk.lp')\n",
    "model.optimize()"
   ]
  },
  {
   "cell_type": "markdown",
   "metadata": {},
   "source": [
    "---\n",
    "## Analysis\n",
    "\n",
    "The anticipated demand for electricity over the 24-hour time window can be met for a total cost of $\\$1,002,540$. The detailed plan for each time period is as follows.\n",
    "\n",
    "### Unit Commitments\n",
    "\n",
    "The following table shows the number of generators of each type that are active in each time period in the optimal solution:"
   ]
  },
  {
   "cell_type": "code",
   "execution_count": 32,
   "metadata": {},
   "outputs": [
    {
     "data": {
      "text/html": [
       "<div>\n",
       "<style scoped>\n",
       "    .dataframe tbody tr th:only-of-type {\n",
       "        vertical-align: middle;\n",
       "    }\n",
       "\n",
       "    .dataframe tbody tr th {\n",
       "        vertical-align: top;\n",
       "    }\n",
       "\n",
       "    .dataframe thead th {\n",
       "        text-align: right;\n",
       "    }\n",
       "</style>\n",
       "<table border=\"1\" class=\"dataframe\">\n",
       "  <thead>\n",
       "    <tr style=\"text-align: right;\">\n",
       "      <th></th>\n",
       "      <th>0</th>\n",
       "      <th>1</th>\n",
       "      <th>2</th>\n",
       "      <th>3</th>\n",
       "      <th>4</th>\n",
       "    </tr>\n",
       "  </thead>\n",
       "  <tbody>\n",
       "    <tr>\n",
       "      <th>Type0</th>\n",
       "      <td>12.0</td>\n",
       "      <td>12.0</td>\n",
       "      <td>12.0</td>\n",
       "      <td>12.0</td>\n",
       "      <td>12.0</td>\n",
       "    </tr>\n",
       "    <tr>\n",
       "      <th>Type1</th>\n",
       "      <td>3.0</td>\n",
       "      <td>8.0</td>\n",
       "      <td>8.0</td>\n",
       "      <td>9.0</td>\n",
       "      <td>9.0</td>\n",
       "    </tr>\n",
       "    <tr>\n",
       "      <th>Type2</th>\n",
       "      <td>0.0</td>\n",
       "      <td>0.0</td>\n",
       "      <td>0.0</td>\n",
       "      <td>2.0</td>\n",
       "      <td>0.0</td>\n",
       "    </tr>\n",
       "  </tbody>\n",
       "</table>\n",
       "</div>"
      ],
      "text/plain": [
       "          0     1     2     3     4\n",
       "Type0  12.0  12.0  12.0  12.0  12.0\n",
       "Type1   3.0   8.0   8.0   9.0   9.0\n",
       "Type2   0.0   0.0   0.0   2.0   0.0"
      ]
     },
     "execution_count": 32,
     "metadata": {},
     "output_type": "execute_result"
    }
   ],
   "source": [
    "rows = [\"Type\" + str(t) for t in range(ntypes)]\n",
    "units = pd.DataFrame(columns=range(nperiods), index=rows, data=0.0)\n",
    "\n",
    "for t in range(ntypes):\n",
    "    for p in range(nperiods):\n",
    "        units.loc[\"Type\"+str(t), p] = ngen[t,p].x\n",
    "units"
   ]
  },
  {
   "cell_type": "markdown",
   "metadata": {},
   "source": [
    "The following shows the number of generators of each type that must be started in each time period to achieve this plan (recall that the model assumes that 5 are available at the beginning of the time horizon):"
   ]
  },
  {
   "cell_type": "code",
   "execution_count": 14,
   "metadata": {},
   "outputs": [
    {
     "data": {
      "text/html": [
       "<div>\n",
       "<style scoped>\n",
       "    .dataframe tbody tr th:only-of-type {\n",
       "        vertical-align: middle;\n",
       "    }\n",
       "\n",
       "    .dataframe tbody tr th {\n",
       "        vertical-align: top;\n",
       "    }\n",
       "\n",
       "    .dataframe thead th {\n",
       "        text-align: right;\n",
       "    }\n",
       "</style>\n",
       "<table border=\"1\" class=\"dataframe\">\n",
       "  <thead>\n",
       "    <tr style=\"text-align: right;\">\n",
       "      <th></th>\n",
       "      <th>0</th>\n",
       "      <th>1</th>\n",
       "      <th>2</th>\n",
       "      <th>3</th>\n",
       "      <th>4</th>\n",
       "    </tr>\n",
       "  </thead>\n",
       "  <tbody>\n",
       "    <tr>\n",
       "      <th>Type0</th>\n",
       "      <td>7.0</td>\n",
       "      <td>0.0</td>\n",
       "      <td>0.0</td>\n",
       "      <td>0.0</td>\n",
       "      <td>0.0</td>\n",
       "    </tr>\n",
       "    <tr>\n",
       "      <th>Type1</th>\n",
       "      <td>0.0</td>\n",
       "      <td>5.0</td>\n",
       "      <td>0.0</td>\n",
       "      <td>1.0</td>\n",
       "      <td>0.0</td>\n",
       "    </tr>\n",
       "    <tr>\n",
       "      <th>Type2</th>\n",
       "      <td>0.0</td>\n",
       "      <td>0.0</td>\n",
       "      <td>0.0</td>\n",
       "      <td>2.0</td>\n",
       "      <td>0.0</td>\n",
       "    </tr>\n",
       "  </tbody>\n",
       "</table>\n",
       "</div>"
      ],
      "text/plain": [
       "         0    1    2    3    4\n",
       "Type0  7.0  0.0  0.0  0.0  0.0\n",
       "Type1  0.0  5.0  0.0  1.0  0.0\n",
       "Type2  0.0  0.0  0.0  2.0  0.0"
      ]
     },
     "execution_count": 14,
     "metadata": {},
     "output_type": "execute_result"
    }
   ],
   "source": [
    "startups = pd.DataFrame(columns=range(nperiods), index=rows, data=0.0)\n",
    "\n",
    "for t in range(ntypes):\n",
    "    for p in range(nperiods):\n",
    "        startups.loc[\"Type\"+str(t), p] = int(nstart[t,p].x)\n",
    "startups"
   ]
  },
  {
   "cell_type": "code",
   "execution_count": 37,
   "metadata": {},
   "outputs": [
    {
     "data": {
      "text/plain": [
       "1123913.3"
      ]
     },
     "execution_count": 37,
     "metadata": {},
     "output_type": "execute_result"
    }
   ],
   "source": [
    "model.SolCount\n",
    "model.Params.SolutionNumber=0\n",
    "model.getAttr(GRB.Attr.Xn)\n",
    "model.getAttr(GRB.Attr.PoolObjVal)"
   ]
  }
 ],
 "metadata": {
  "kernelspec": {
   "display_name": "Python 3",
   "language": "python",
   "name": "python3"
  },
  "language_info": {
   "codemirror_mode": {
    "name": "ipython",
    "version": 3
   },
   "file_extension": ".py",
   "mimetype": "text/x-python",
   "name": "python",
   "nbconvert_exporter": "python",
   "pygments_lexer": "ipython3",
   "version": "3.9.7"
  }
 },
 "nbformat": 4,
 "nbformat_minor": 2
}
