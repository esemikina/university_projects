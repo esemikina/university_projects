{
  "cells": [
    {
      "attachments": {},
      "cell_type": "markdown",
      "metadata": {
        "id": "bsZVE6hfjq5v"
      },
      "source": [
        "---\n",
        "<h1><center>IDS 435 - Assignment 4</center></h1>\n",
        "\n",
        "    \n",
        "- First Name: Yelizaveta\n",
        "- Last Name: Semikina\n",
        "- UIN: 670246811"
      ]
    },
    {
      "attachments": {},
      "cell_type": "markdown",
      "metadata": {},
      "source": [
        "\n",
        "\n",
        "Electric Power Generation\n",
        "This assignment is based on the week 12 lecture regarding electric power generation.\n",
        "\n",
        "Consider the problem description and formulation in the file \"electrical_power_1_gcl_formulation.html\". We also reviewed accompanying Python code to solve this problem using Gurobi and analyze the output. See \"electrical_power_1_gcl_code.ipynb\". The assignment requires you to account for new developments regarding available generators. In addition to the thermal generators in the previous problem, two new Hydro-power generators have become available, each with a fixed power output (when on):\n",
        "\n",
        "| Hydro plant | Output (MW)   |\n",
        "| A           | 900           |\n",
        "| B           | 1400          |\n",
        "    \n",
        "The costs associated with using a hydro plant are slightly different. There's an hourly cost, but it is much smaller than the hourly cost of a thermal generator. The real cost for a hydroelectric plant comes from depletion of the water in the reservoir, which happens at different rates for the two units. The reservoir must be replenished before the end of the time horizon by pumping water into it, which consumes electricity. A hydroelectric plant also has a startup cost.\n",
        "\n",
        "| Hydro plant  | Cost per hour (when on)  | Startup cost  | Reservoir depth reduction (m/hr) |\n",
        "| A            | $90                      | $1500         | 0.31                             |\n",
        "| B            | $150                     | $1200         | 0.47                             |\n",
        "\n",
        "\n",
        "Pumping water into the reservoir consumes electricity at a rate of 3000 MWh of electricity per meter of height. The height of the reservoir at the end of the time horizon must be equal to the height at the beginning.\n",
        "\n",
        "All the thermal generators should still be considered and the constraints that applied in the problem we saw in class also apply here and the goal is the same: Which thermal and Hydro generators should be committed to meet anticipated demand in order to minimize total cost?\n",
        "\n",
        "Pumping water into the reservoir consumes electricity at a rate of 3000 MWh of electricity per meter of height. The height of the reservoir at the end of the time horizon must be equal to the height at the beginning.\n",
        "\n",
        "All the thermal generators should still be considered and the constraints that applied in the problem we saw in class also apply here and the goal is the same: Which thermal and Hydro generators should be committed to meet anticipated demand in order to minimize total cost?\n",
        "\n",
        "1) Modify the formulation we discussed in class and documented in \"electrical_power_1_gcl_formulation.html\" to account for the new Hydro generators and its constraints. I have posted the jupyter file associated with the in class version of the formulation so that you can modify that file.\n",
        "\n",
        "2) Modify the Gurobi implementation to account for the changes in (1) and solve the revised problem and show the optimal plan for which generators should be committed as well as the minimum cost.\n",
        "\n"
      ]
    },
    {
      "attachments": {},
      "cell_type": "markdown",
      "metadata": {},
      "source": [
        "**Question 1**\n",
        "\n",
        "Decision Variables:\n",
        "\n",
        "$\\text{ngen}_{t,p}$: Number of generators of type t that are on in time period p. This variable shows the choice to activate a particular kind of generator for a given amount of time.\n",
        "\n",
        "$\\text{output}_{t,p}$: Total power output from generators of type t in time period p. This variable shows the actual power reuslt from a specific generator in a specific amount of time. \n",
        "\n",
        "$\\text{nstart}_{t,p}$: Number of generators of type t to start in time period p. This variable shows the how additional specific generators  in a specific time period can start to work for specific demand.\n",
        "\n",
        "Parameters:\n",
        "\n",
        "$\\text{period-hours}_p$: Number of hours for a specific time period. This parameter shows the duration of a specific time period.\n",
        "\n",
        "$\\text{generators}_t$: Number of generators of type t. This parameter shows the total number of generators available for every type.\n",
        "\n",
        "$\\text{demand}_p$: Total power demand for time period p. This parameter shows how much electricty would be required for the specific time period.\n",
        "\n",
        "start0: Number of generators that are at the beginning of the time horizon. This parameter shows how many generators are already at the start of the time horizon.\n",
        "\n",
        "$\\text{min-output}_t$: Minimum output for generator typet t (when on). This parameter shows the minimum output that a specific type of generator can make.\n",
        "\n",
        "$\\text{max-output}_t$: Maximum output for generator type t. This parameter shows the maximum output that a specific type of generator can make.\n",
        "\n",
        "$\\text{base-cost}_t$: Minimum operating cost (per hour) for a generator of type t. This parameter shows the cost per hour of operating a generator of a specific type at its minimum output.\n",
        "\n",
        "$\\text{per-mwh-cost}_t$: Cost to generate one additional MW (per hour) for a generator of type t. This parameter shows the cost per hour to provide one extra megawatt of power for a specific generator type.\n",
        "\n",
        "$\\text{startup-cost}_t$: Startup cost for generator of type t. This parameter shows the cost of starting a specific type of generator\n",
        "\n",
        "Objective Function:\n",
        "The objective function minimizes the total cost for electricity demand. The total cost has three components:\n",
        "\n",
        "1. $Z_{on}$: Cost of maintaining generators at their lowest output levels for each type and time period.\n",
        "\n",
        "2. $Z_{extra}$: Cost of generating more energy than is necessary for each type at time period.\n",
        "\n",
        "3. $Z_{startup}$: Cost of starting generators in a specific time period.\n",
        "\n",
        "Constraints:\n",
        "\n",
        "Available generators: \n",
        "For each type, there must be the same or lesser number of generators accessible throughout specific time period.\n",
        "\n",
        "Power demand constraint: \n",
        "The total power output from all the committed generators of all types in specific time periods must be equal to or greater than the anticipated requirement for energy, given a reserve capacity of 115% of predicted demand."
      ]
    },
    {
      "cell_type": "code",
      "execution_count": 2,
      "metadata": {},
      "outputs": [
        {
          "name": "stdout",
          "output_type": "stream",
          "text": [
            "Set parameter Username\n",
            "Academic license - for non-commercial use only - expires 2024-03-28\n"
          ]
        }
      ],
      "source": [
        "\"\"\"\n",
        "____________________________\n",
        "Code for Question 2.\n",
        "‾‾‾‾‾‾‾‾‾‾‾‾‾‾‾‾‾‾‾‾‾‾‾‾‾‾‾‾\n",
        "\"\"\"\n",
        "import gurobipy as gp\n",
        "from gurobipy import GRB\n",
        "\n",
        "# Parameters\n",
        "\n",
        "ntypes = 5\n",
        "nperiods = 5\n",
        "maxstart0 = 5\n",
        "\n",
        "generators = [12, 10, 5]\n",
        "period_hours = [6, 3, 6, 3, 6]\n",
        "demand = [15000, 30000, 25000, 40000, 27000]\n",
        "min_load = [850, 1250, 1500]\n",
        "max_load = [2000, 1750, 4000]\n",
        "base_cost = [1000, 2600, 3000]\n",
        "per_mw_cost = [2, 1.3, 3]\n",
        "startup_cost = [2000, 1000, 500]\n",
        "\n",
        "hydro_plants = ['A', 'B']\n",
        "hydro_output = {'A': 900, 'B': 1400}\n",
        "hydro_cost_hourly = {'A': 90, 'B': 150}\n",
        "hydro_startup_cost = {'A': 1500, 'B': 1200}\n",
        "reservoir_reduction_rate = {'A': 0.31, 'B': 0.47}\n",
        "pumping_electricity_rate = 3000\n",
        "\n",
        "# Create model\n",
        "model = gp.Model('PowerGeneration')\n",
        "\n",
        "# Decision Variables\n",
        "ngen = model.addVars(ntypes, nperiods, vtype=GRB.INTEGER, name=\"ngen\")\n",
        "nstart = model.addVars(ntypes, nperiods, vtype=GRB.INTEGER, name=\"nstart\")\n",
        "output = model.addVars(ntypes, nperiods, vtype=GRB.CONTINUOUS, name=\"genoutput\")\n",
        "hydron = model.addVars(hydro_plants, nperiods, vtype=GRB.BINARY, name=\"hydron\")\n",
        "\n",
        "# Generator count\n",
        "numgen = model.addConstrs\n"
      ]
    }
  ],
  "metadata": {
    "colab": {
      "collapsed_sections": [],
      "name": "IDS435-Assignment-1.ipynb",
      "provenance": [],
      "toc_visible": true
    },
    "kernelspec": {
      "display_name": "Python 3",
      "language": "python",
      "name": "python3"
    },
    "language_info": {
      "codemirror_mode": {
        "name": "ipython",
        "version": 3
      },
      "file_extension": ".py",
      "mimetype": "text/x-python",
      "name": "python",
      "nbconvert_exporter": "python",
      "pygments_lexer": "ipython3",
      "version": "3.11.0"
    },
    "vscode": {
      "interpreter": {
        "hash": "980bb511596984461bba7b696ae17980f58ee97cdd2ad15a9b84f8d89145da87"
      }
    }
  },
  "nbformat": 4,
  "nbformat_minor": 0
}
