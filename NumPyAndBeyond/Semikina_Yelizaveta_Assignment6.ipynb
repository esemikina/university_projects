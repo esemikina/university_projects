{
 "cells": [
  {
   "attachments": {},
   "cell_type": "markdown",
   "metadata": {},
   "source": [
    "Q1: Numpy array\n",
    "1. Write a Python program to create a 5x5 array with random values and find the minimum and\n",
    "maximum values.\n",
    "2. Write a Python program to create a random 10x4 array and extract the first five rows of the array\n",
    "and store them into a variable.\n",
    "3. Write a Python program to create a random vector of size 10 and sort it.\n",
    "4. Write a Python program to find the most frequent value in an one-dimensional array"
   ]
  },
  {
   "cell_type": "code",
   "execution_count": 2,
   "metadata": {},
   "outputs": [
    {
     "name": "stdout",
     "output_type": "stream",
     "text": [
      "Array:\n",
      "[[0.96393374 0.51211201 0.94208078 0.50747857 0.57903664]\n",
      " [0.20548241 0.9176142  0.82885849 0.53586256 0.72719432]\n",
      " [0.46476348 0.2521272  0.87826644 0.23697573 0.39069737]\n",
      " [0.11828694 0.31384893 0.4525365  0.8951974  0.924412  ]\n",
      " [0.00544753 0.67413239 0.09491104 0.44955838 0.00686246]]\n",
      "Minimum value: 0.0054475314119896145\n",
      "Maximum value: 0.963933741393932\n",
      "Array:\n",
      "[[0.60176728 0.57969559 0.63338783 0.6187333 ]\n",
      " [0.01825686 0.67263267 0.70113313 0.16644685]\n",
      " [0.184251   0.37989715 0.76094664 0.86833172]\n",
      " [0.94839683 0.9092024  0.12563433 0.39036858]\n",
      " [0.47197551 0.95982715 0.65819468 0.44411767]\n",
      " [0.17256578 0.88341814 0.81555171 0.09983088]\n",
      " [0.98954834 0.94394961 0.11347603 0.76728404]\n",
      " [0.5829379  0.94301153 0.45922371 0.60719934]\n",
      " [0.71098498 0.91447879 0.57633919 0.18465263]\n",
      " [0.32125531 0.06813123 0.50810724 0.33235486]]\n",
      "First five rows:\n",
      "[[0.60176728 0.57969559 0.63338783 0.6187333 ]\n",
      " [0.01825686 0.67263267 0.70113313 0.16644685]\n",
      " [0.184251   0.37989715 0.76094664 0.86833172]\n",
      " [0.94839683 0.9092024  0.12563433 0.39036858]\n",
      " [0.47197551 0.95982715 0.65819468 0.44411767]]\n",
      "Vector:\n",
      "[0.17196163 0.55356321 0.73951599 0.78543579 0.02050414 0.21456335\n",
      " 0.35420613 0.89014544 0.71341523 0.32372819]\n",
      "Sorted vector:\n",
      "[0.02050414 0.17196163 0.21456335 0.32372819 0.35420613 0.55356321\n",
      " 0.71341523 0.73951599 0.78543579 0.89014544]\n",
      "Array:\n",
      "[1 2 3 4 1 2 3 1 2 1]\n",
      "Most frequent value: 1\n"
     ]
    }
   ],
   "source": [
    "# Q1.1\n",
    "import numpy as np\n",
    "\n",
    "arr = np.random.rand(5, 5)\n",
    "\n",
    "min_val = np.min(arr)\n",
    "max_val = np.max(arr)\n",
    "\n",
    "print(\"Array:\")\n",
    "print(arr)\n",
    "print(\"Minimum value:\", min_val)\n",
    "print(\"Maximum value:\", max_val)\n",
    "\n",
    "#Q1.2\n",
    "arr = np.random.rand(10, 4)\n",
    "\n",
    "first_five_rows = arr[:5, :]\n",
    "\n",
    "print(\"Array:\")\n",
    "print(arr)\n",
    "print(\"First five rows:\")\n",
    "print(first_five_rows)\n",
    "\n",
    "#Q1.3\n",
    "vec = np.random.rand(10)\n",
    "\n",
    "# Sort the vector\n",
    "sorted_vec = np.sort(vec)\n",
    "\n",
    "print(\"Vector:\")\n",
    "print(vec)\n",
    "print(\"Sorted vector:\")\n",
    "print(sorted_vec)\n",
    "\n",
    "#Q1.4\n",
    "arr = np.array([1, 2, 3, 4, 1, 2, 3, 1, 2, 1])\n",
    "\n",
    "# Find the most frequent value\n",
    "most_freq_val = np.bincount(arr).argmax()\n",
    "\n",
    "print(\"Array:\")\n",
    "print(arr)\n",
    "print(\"Most frequent value:\", most_freq_val)"
   ]
  },
  {
   "attachments": {},
   "cell_type": "markdown",
   "metadata": {},
   "source": [
    "Q2. Linear Algebra (40pts)\n",
    "Bob invested $10,000 on two mutual funds one year ago. After one year, the overall yield rates\n",
    "for these two mutual funds are +2% and +4%. His yearend account showed $10,250. How much\n",
    "did he initially put onto two mutual funds? "
   ]
  },
  {
   "attachments": {},
   "cell_type": "markdown",
   "metadata": {},
   "source": [
    "Let's represent the initial amount invested in mutual fund 1 by x, and the initial amount invested in mutual fund 2 by y.\n",
    "So we have the equation: x + y = 10000\n",
    "After one year, the overall yield rates for these two mutual funds are +2% and +4%. His yearend account showed $10,250.\n",
    "The amount he earned on the first mutual fund is 0.02x and the amount he earned on the second mutual fund is 0.04y. So, we have the equation: x + y + 0.02x + 0.04y = 10250;\n",
    "1.02x + 1.04y = 10250\n",
    "We have this:\n",
    "x + y = 10000\n",
    "1.02x + 1.04y = 10250\n",
    "let's multiplying the first equation by 1.02, we get: 1.02x + 1.02y = 10200, then we get\n",
    "we get: 0.02y = 50, thus we get y = 2500\n",
    "for the x we get: x + 2500 = 10000, so, x = 7500. Therefore, Bob put $7500 on one mutual fund and $2500 on the other mutual fund."
   ]
  },
  {
   "attachments": {},
   "cell_type": "markdown",
   "metadata": {},
   "source": [
    "Q3. K-means Clustering\n",
    "Load the data from attached file “Assignment_table.csv”.\n",
    "• Create a histogram for the first and second column respectively (20 points)\n",
    "• Conduct a clustering algorithm on these two columns. Try out 3,4,5 clusters respectively.\n",
    "What do you think is the right number of clusters for this dataset? (40 points)"
   ]
  },
  {
   "cell_type": "code",
   "execution_count": 10,
   "metadata": {},
   "outputs": [
    {
     "ename": "ModuleNotFoundError",
     "evalue": "No module named 'matplotlib'",
     "output_type": "error",
     "traceback": [
      "\u001b[0;31m---------------------------------------------------------------------------\u001b[0m",
      "\u001b[0;31mModuleNotFoundError\u001b[0m                       Traceback (most recent call last)",
      "Cell \u001b[0;32mIn[10], line 3\u001b[0m\n\u001b[1;32m      1\u001b[0m \u001b[39mimport\u001b[39;00m \u001b[39mpandas\u001b[39;00m \u001b[39mas\u001b[39;00m \u001b[39mpd\u001b[39;00m\n\u001b[1;32m      2\u001b[0m \u001b[39mimport\u001b[39;00m \u001b[39mnumpy\u001b[39;00m \u001b[39mas\u001b[39;00m \u001b[39mnp\u001b[39;00m\n\u001b[0;32m----> 3\u001b[0m \u001b[39mfrom\u001b[39;00m \u001b[39mmatplotlib\u001b[39;00m \u001b[39mimport\u001b[39;00m pyplot \u001b[39mas\u001b[39;00m plt\n\u001b[1;32m      4\u001b[0m \u001b[39mfrom\u001b[39;00m \u001b[39msklearn\u001b[39;00m\u001b[39m.\u001b[39;00m\u001b[39mcluster\u001b[39;00m \u001b[39mimport\u001b[39;00m KMeans\n\u001b[1;32m      6\u001b[0m \u001b[39m# Load data\u001b[39;00m\n",
      "\u001b[0;31mModuleNotFoundError\u001b[0m: No module named 'matplotlib'"
     ]
    }
   ],
   "source": [
    "import pandas as pd\n",
    "import numpy as np\n",
    "from matplotlib import pyplot as plt\n",
    "from sklearn.cluster import KMeans\n",
    "\n",
    "# Load data\n",
    "data = pd.read_csv(\"Assignment_table.csv\")\n",
    "\n",
    "# Create histograms for first and second columns\n",
    "plt.hist(data.iloc[:, 0], bins=20)\n",
    "plt.title(\"Histogram for Column 1\")\n",
    "plt.xlabel(\"Column 1 values\")\n",
    "plt.ylabel(\"Frequency\")\n",
    "plt.show()\n",
    "\n",
    "plt.hist(data.iloc[:, 1], bins=20)\n",
    "plt.title(\"Histogram for Column 2\")\n",
    "plt.xlabel(\"Column 2 values\")\n",
    "plt.ylabel(\"Frequency\")\n",
    "plt.show()\n",
    "\n",
    "# Perform clustering with different number of clusters\n",
    "X = data.iloc[:, [0, 1]].values\n",
    "\n",
    "for n_clusters in range(3, 6):\n",
    "    kmeans = KMeans(n_clusters=n_clusters, random_state=0)\n",
    "    kmeans.fit(X)\n",
    "    labels = kmeans.labels_\n",
    "    centroids = kmeans.cluster_centers_\n",
    "\n",
    "    # Visualize the results\n",
    "    plt.scatter(X[:, 0], X[:, 1], c=labels)\n",
    "    plt.scatter(centroids[:, 0], centroids[:, 1], marker='*', s=300, c='r')\n",
    "    plt.title(f'K-means Clustering Results (n_clusters={n_clusters})')\n",
    "    plt.xlabel('Column 1')\n",
    "    plt.ylabel('Column 2')\n",
    "    plt.show()\n"
   ]
  }
 ],
 "metadata": {
  "kernelspec": {
   "display_name": "Python 3",
   "language": "python",
   "name": "python3"
  },
  "language_info": {
   "codemirror_mode": {
    "name": "ipython",
    "version": 3
   },
   "file_extension": ".py",
   "mimetype": "text/x-python",
   "name": "python",
   "nbconvert_exporter": "python",
   "pygments_lexer": "ipython3",
   "version": "3.9.6"
  },
  "orig_nbformat": 4
 },
 "nbformat": 4,
 "nbformat_minor": 2
}
