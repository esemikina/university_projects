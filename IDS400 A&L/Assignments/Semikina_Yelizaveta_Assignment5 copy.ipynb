{
 "cells": [
  {
   "attachments": {},
   "cell_type": "markdown",
   "metadata": {},
   "source": [
    "Assignment 5. \n",
    "Yelizaveta Semikina."
   ]
  },
  {
   "attachments": {},
   "cell_type": "markdown",
   "metadata": {},
   "source": [
    "Exercise 1. "
   ]
  },
  {
   "attachments": {},
   "cell_type": "markdown",
   "metadata": {},
   "source": [
    "1. DataFrame from CSV\n",
    "The UIC2016MensBasketBall.csv records the game results of the 2016 Men’s Basketball. Implement\n",
    "Python code to load the exact data into a data frame df2016."
   ]
  },
  {
   "cell_type": "code",
   "execution_count": 5,
   "metadata": {},
   "outputs": [
    {
     "ename": "FileNotFoundError",
     "evalue": "[Errno 2] No such file or directory: 'UIC2016Basketball.csv'",
     "output_type": "error",
     "traceback": [
      "\u001b[0;31m---------------------------------------------------------------------------\u001b[0m",
      "\u001b[0;31mFileNotFoundError\u001b[0m                         Traceback (most recent call last)",
      "Cell \u001b[0;32mIn[5], line 4\u001b[0m\n\u001b[1;32m      1\u001b[0m \u001b[39mimport\u001b[39;00m \u001b[39mpandas\u001b[39;00m \u001b[39mas\u001b[39;00m \u001b[39mpd\u001b[39;00m\n\u001b[1;32m      3\u001b[0m \u001b[39m# 1. Load CSV into a dataframe\u001b[39;00m\n\u001b[0;32m----> 4\u001b[0m df2016 \u001b[39m=\u001b[39m pd\u001b[39m.\u001b[39;49mread_csv(\u001b[39m'\u001b[39;49m\u001b[39mUIC2016Basketball.csv\u001b[39;49m\u001b[39m'\u001b[39;49m)\n",
      "File \u001b[0;32m/Library/Frameworks/Python.framework/Versions/3.11/lib/python3.11/site-packages/pandas/util/_decorators.py:211\u001b[0m, in \u001b[0;36mdeprecate_kwarg.<locals>._deprecate_kwarg.<locals>.wrapper\u001b[0;34m(*args, **kwargs)\u001b[0m\n\u001b[1;32m    209\u001b[0m     \u001b[39melse\u001b[39;00m:\n\u001b[1;32m    210\u001b[0m         kwargs[new_arg_name] \u001b[39m=\u001b[39m new_arg_value\n\u001b[0;32m--> 211\u001b[0m \u001b[39mreturn\u001b[39;00m func(\u001b[39m*\u001b[39;49margs, \u001b[39m*\u001b[39;49m\u001b[39m*\u001b[39;49mkwargs)\n",
      "File \u001b[0;32m/Library/Frameworks/Python.framework/Versions/3.11/lib/python3.11/site-packages/pandas/util/_decorators.py:331\u001b[0m, in \u001b[0;36mdeprecate_nonkeyword_arguments.<locals>.decorate.<locals>.wrapper\u001b[0;34m(*args, **kwargs)\u001b[0m\n\u001b[1;32m    325\u001b[0m \u001b[39mif\u001b[39;00m \u001b[39mlen\u001b[39m(args) \u001b[39m>\u001b[39m num_allow_args:\n\u001b[1;32m    326\u001b[0m     warnings\u001b[39m.\u001b[39mwarn(\n\u001b[1;32m    327\u001b[0m         msg\u001b[39m.\u001b[39mformat(arguments\u001b[39m=\u001b[39m_format_argument_list(allow_args)),\n\u001b[1;32m    328\u001b[0m         \u001b[39mFutureWarning\u001b[39;00m,\n\u001b[1;32m    329\u001b[0m         stacklevel\u001b[39m=\u001b[39mfind_stack_level(),\n\u001b[1;32m    330\u001b[0m     )\n\u001b[0;32m--> 331\u001b[0m \u001b[39mreturn\u001b[39;00m func(\u001b[39m*\u001b[39;49margs, \u001b[39m*\u001b[39;49m\u001b[39m*\u001b[39;49mkwargs)\n",
      "File \u001b[0;32m/Library/Frameworks/Python.framework/Versions/3.11/lib/python3.11/site-packages/pandas/io/parsers/readers.py:950\u001b[0m, in \u001b[0;36mread_csv\u001b[0;34m(filepath_or_buffer, sep, delimiter, header, names, index_col, usecols, squeeze, prefix, mangle_dupe_cols, dtype, engine, converters, true_values, false_values, skipinitialspace, skiprows, skipfooter, nrows, na_values, keep_default_na, na_filter, verbose, skip_blank_lines, parse_dates, infer_datetime_format, keep_date_col, date_parser, dayfirst, cache_dates, iterator, chunksize, compression, thousands, decimal, lineterminator, quotechar, quoting, doublequote, escapechar, comment, encoding, encoding_errors, dialect, error_bad_lines, warn_bad_lines, on_bad_lines, delim_whitespace, low_memory, memory_map, float_precision, storage_options)\u001b[0m\n\u001b[1;32m    935\u001b[0m kwds_defaults \u001b[39m=\u001b[39m _refine_defaults_read(\n\u001b[1;32m    936\u001b[0m     dialect,\n\u001b[1;32m    937\u001b[0m     delimiter,\n\u001b[0;32m   (...)\u001b[0m\n\u001b[1;32m    946\u001b[0m     defaults\u001b[39m=\u001b[39m{\u001b[39m\"\u001b[39m\u001b[39mdelimiter\u001b[39m\u001b[39m\"\u001b[39m: \u001b[39m\"\u001b[39m\u001b[39m,\u001b[39m\u001b[39m\"\u001b[39m},\n\u001b[1;32m    947\u001b[0m )\n\u001b[1;32m    948\u001b[0m kwds\u001b[39m.\u001b[39mupdate(kwds_defaults)\n\u001b[0;32m--> 950\u001b[0m \u001b[39mreturn\u001b[39;00m _read(filepath_or_buffer, kwds)\n",
      "File \u001b[0;32m/Library/Frameworks/Python.framework/Versions/3.11/lib/python3.11/site-packages/pandas/io/parsers/readers.py:605\u001b[0m, in \u001b[0;36m_read\u001b[0;34m(filepath_or_buffer, kwds)\u001b[0m\n\u001b[1;32m    602\u001b[0m _validate_names(kwds\u001b[39m.\u001b[39mget(\u001b[39m\"\u001b[39m\u001b[39mnames\u001b[39m\u001b[39m\"\u001b[39m, \u001b[39mNone\u001b[39;00m))\n\u001b[1;32m    604\u001b[0m \u001b[39m# Create the parser.\u001b[39;00m\n\u001b[0;32m--> 605\u001b[0m parser \u001b[39m=\u001b[39m TextFileReader(filepath_or_buffer, \u001b[39m*\u001b[39;49m\u001b[39m*\u001b[39;49mkwds)\n\u001b[1;32m    607\u001b[0m \u001b[39mif\u001b[39;00m chunksize \u001b[39mor\u001b[39;00m iterator:\n\u001b[1;32m    608\u001b[0m     \u001b[39mreturn\u001b[39;00m parser\n",
      "File \u001b[0;32m/Library/Frameworks/Python.framework/Versions/3.11/lib/python3.11/site-packages/pandas/io/parsers/readers.py:1442\u001b[0m, in \u001b[0;36mTextFileReader.__init__\u001b[0;34m(self, f, engine, **kwds)\u001b[0m\n\u001b[1;32m   1439\u001b[0m     \u001b[39mself\u001b[39m\u001b[39m.\u001b[39moptions[\u001b[39m\"\u001b[39m\u001b[39mhas_index_names\u001b[39m\u001b[39m\"\u001b[39m] \u001b[39m=\u001b[39m kwds[\u001b[39m\"\u001b[39m\u001b[39mhas_index_names\u001b[39m\u001b[39m\"\u001b[39m]\n\u001b[1;32m   1441\u001b[0m \u001b[39mself\u001b[39m\u001b[39m.\u001b[39mhandles: IOHandles \u001b[39m|\u001b[39m \u001b[39mNone\u001b[39;00m \u001b[39m=\u001b[39m \u001b[39mNone\u001b[39;00m\n\u001b[0;32m-> 1442\u001b[0m \u001b[39mself\u001b[39m\u001b[39m.\u001b[39m_engine \u001b[39m=\u001b[39m \u001b[39mself\u001b[39;49m\u001b[39m.\u001b[39;49m_make_engine(f, \u001b[39mself\u001b[39;49m\u001b[39m.\u001b[39;49mengine)\n",
      "File \u001b[0;32m/Library/Frameworks/Python.framework/Versions/3.11/lib/python3.11/site-packages/pandas/io/parsers/readers.py:1735\u001b[0m, in \u001b[0;36mTextFileReader._make_engine\u001b[0;34m(self, f, engine)\u001b[0m\n\u001b[1;32m   1733\u001b[0m     \u001b[39mif\u001b[39;00m \u001b[39m\"\u001b[39m\u001b[39mb\u001b[39m\u001b[39m\"\u001b[39m \u001b[39mnot\u001b[39;00m \u001b[39min\u001b[39;00m mode:\n\u001b[1;32m   1734\u001b[0m         mode \u001b[39m+\u001b[39m\u001b[39m=\u001b[39m \u001b[39m\"\u001b[39m\u001b[39mb\u001b[39m\u001b[39m\"\u001b[39m\n\u001b[0;32m-> 1735\u001b[0m \u001b[39mself\u001b[39m\u001b[39m.\u001b[39mhandles \u001b[39m=\u001b[39m get_handle(\n\u001b[1;32m   1736\u001b[0m     f,\n\u001b[1;32m   1737\u001b[0m     mode,\n\u001b[1;32m   1738\u001b[0m     encoding\u001b[39m=\u001b[39;49m\u001b[39mself\u001b[39;49m\u001b[39m.\u001b[39;49moptions\u001b[39m.\u001b[39;49mget(\u001b[39m\"\u001b[39;49m\u001b[39mencoding\u001b[39;49m\u001b[39m\"\u001b[39;49m, \u001b[39mNone\u001b[39;49;00m),\n\u001b[1;32m   1739\u001b[0m     compression\u001b[39m=\u001b[39;49m\u001b[39mself\u001b[39;49m\u001b[39m.\u001b[39;49moptions\u001b[39m.\u001b[39;49mget(\u001b[39m\"\u001b[39;49m\u001b[39mcompression\u001b[39;49m\u001b[39m\"\u001b[39;49m, \u001b[39mNone\u001b[39;49;00m),\n\u001b[1;32m   1740\u001b[0m     memory_map\u001b[39m=\u001b[39;49m\u001b[39mself\u001b[39;49m\u001b[39m.\u001b[39;49moptions\u001b[39m.\u001b[39;49mget(\u001b[39m\"\u001b[39;49m\u001b[39mmemory_map\u001b[39;49m\u001b[39m\"\u001b[39;49m, \u001b[39mFalse\u001b[39;49;00m),\n\u001b[1;32m   1741\u001b[0m     is_text\u001b[39m=\u001b[39;49mis_text,\n\u001b[1;32m   1742\u001b[0m     errors\u001b[39m=\u001b[39;49m\u001b[39mself\u001b[39;49m\u001b[39m.\u001b[39;49moptions\u001b[39m.\u001b[39;49mget(\u001b[39m\"\u001b[39;49m\u001b[39mencoding_errors\u001b[39;49m\u001b[39m\"\u001b[39;49m, \u001b[39m\"\u001b[39;49m\u001b[39mstrict\u001b[39;49m\u001b[39m\"\u001b[39;49m),\n\u001b[1;32m   1743\u001b[0m     storage_options\u001b[39m=\u001b[39;49m\u001b[39mself\u001b[39;49m\u001b[39m.\u001b[39;49moptions\u001b[39m.\u001b[39;49mget(\u001b[39m\"\u001b[39;49m\u001b[39mstorage_options\u001b[39;49m\u001b[39m\"\u001b[39;49m, \u001b[39mNone\u001b[39;49;00m),\n\u001b[1;32m   1744\u001b[0m )\n\u001b[1;32m   1745\u001b[0m \u001b[39massert\u001b[39;00m \u001b[39mself\u001b[39m\u001b[39m.\u001b[39mhandles \u001b[39mis\u001b[39;00m \u001b[39mnot\u001b[39;00m \u001b[39mNone\u001b[39;00m\n\u001b[1;32m   1746\u001b[0m f \u001b[39m=\u001b[39m \u001b[39mself\u001b[39m\u001b[39m.\u001b[39mhandles\u001b[39m.\u001b[39mhandle\n",
      "File \u001b[0;32m/Library/Frameworks/Python.framework/Versions/3.11/lib/python3.11/site-packages/pandas/io/common.py:856\u001b[0m, in \u001b[0;36mget_handle\u001b[0;34m(path_or_buf, mode, encoding, compression, memory_map, is_text, errors, storage_options)\u001b[0m\n\u001b[1;32m    851\u001b[0m \u001b[39melif\u001b[39;00m \u001b[39misinstance\u001b[39m(handle, \u001b[39mstr\u001b[39m):\n\u001b[1;32m    852\u001b[0m     \u001b[39m# Check whether the filename is to be opened in binary mode.\u001b[39;00m\n\u001b[1;32m    853\u001b[0m     \u001b[39m# Binary mode does not support 'encoding' and 'newline'.\u001b[39;00m\n\u001b[1;32m    854\u001b[0m     \u001b[39mif\u001b[39;00m ioargs\u001b[39m.\u001b[39mencoding \u001b[39mand\u001b[39;00m \u001b[39m\"\u001b[39m\u001b[39mb\u001b[39m\u001b[39m\"\u001b[39m \u001b[39mnot\u001b[39;00m \u001b[39min\u001b[39;00m ioargs\u001b[39m.\u001b[39mmode:\n\u001b[1;32m    855\u001b[0m         \u001b[39m# Encoding\u001b[39;00m\n\u001b[0;32m--> 856\u001b[0m         handle \u001b[39m=\u001b[39m \u001b[39mopen\u001b[39;49m(\n\u001b[1;32m    857\u001b[0m             handle,\n\u001b[1;32m    858\u001b[0m             ioargs\u001b[39m.\u001b[39;49mmode,\n\u001b[1;32m    859\u001b[0m             encoding\u001b[39m=\u001b[39;49mioargs\u001b[39m.\u001b[39;49mencoding,\n\u001b[1;32m    860\u001b[0m             errors\u001b[39m=\u001b[39;49merrors,\n\u001b[1;32m    861\u001b[0m             newline\u001b[39m=\u001b[39;49m\u001b[39m\"\u001b[39;49m\u001b[39m\"\u001b[39;49m,\n\u001b[1;32m    862\u001b[0m         )\n\u001b[1;32m    863\u001b[0m     \u001b[39melse\u001b[39;00m:\n\u001b[1;32m    864\u001b[0m         \u001b[39m# Binary mode\u001b[39;00m\n\u001b[1;32m    865\u001b[0m         handle \u001b[39m=\u001b[39m \u001b[39mopen\u001b[39m(handle, ioargs\u001b[39m.\u001b[39mmode)\n",
      "\u001b[0;31mFileNotFoundError\u001b[0m: [Errno 2] No such file or directory: 'UIC2016Basketball.csv'"
     ]
    }
   ],
   "source": [
    "import pandas as pd\n",
    "\n",
    "# 1. Load CSV into a dataframe\n",
    "df2016 = pd.read_csv('UIC2016Basketball.csv')\n"
   ]
  },
  {
   "attachments": {},
   "cell_type": "markdown",
   "metadata": {},
   "source": [
    "2. Column Names\n",
    "Assign column headers to:\n",
    "Date\n",
    "Opponent\n",
    "UIC Score\n",
    "Opp Score\n",
    "UIC Field Goal Percentage\n",
    "Opp Field Goal Percentage\n",
    "UIC 3 point Field Goal Percentage\n",
    "Opp 3 point Field Goal Percentage\n",
    "UIC Rebound\n",
    "Opp Rebound\n",
    "UIC Assists\n",
    "Opp Assist"
   ]
  },
  {
   "cell_type": "code",
   "execution_count": 2,
   "metadata": {},
   "outputs": [],
   "source": [
    "df2016.columns = ['Date', 'Opponent', 'UIC Score', 'Opp Score', 'UIC Field Goal Percentage', \n",
    "                  'Opp Field Goal Percentage', 'UIC 3 point Field Goal Percentage', \n",
    "                  'Opp 3 point Field Goal Percentage', 'UIC Rebound', 'Opp Rebound', \n",
    "                  'UIC Assists', 'Opp Assists']"
   ]
  },
  {
   "attachments": {},
   "cell_type": "markdown",
   "metadata": {},
   "source": [
    "3. Missing data\n",
    "Fill the missing data cell with a hyphen symbol ‘-‘."
   ]
  },
  {
   "cell_type": "code",
   "execution_count": 3,
   "metadata": {},
   "outputs": [],
   "source": [
    "df2016.fillna('-', inplace=True)"
   ]
  },
  {
   "attachments": {},
   "cell_type": "markdown",
   "metadata": {},
   "source": [
    "4. Data Types\n",
    "What are the data types used in this data frame? Provide both Python code and the answer."
   ]
  },
  {
   "cell_type": "code",
   "execution_count": 4,
   "metadata": {},
   "outputs": [
    {
     "name": "stdout",
     "output_type": "stream",
     "text": [
      "Date                                 object\n",
      "Opponent                             object\n",
      "UIC Score                             int64\n",
      "Opp Score                             int64\n",
      "UIC Field Goal Percentage            object\n",
      "Opp Field Goal Percentage             int64\n",
      "UIC 3 point Field Goal Percentage    object\n",
      "Opp 3 point Field Goal Percentage    object\n",
      "UIC Rebound                           int64\n",
      "Opp Rebound                          object\n",
      "UIC Assists                          object\n",
      "Opp Assists                           int64\n",
      "dtype: object\n"
     ]
    }
   ],
   "source": [
    "print(df2016.dtypes)"
   ]
  },
  {
   "attachments": {},
   "cell_type": "markdown",
   "metadata": {},
   "source": [
    "5. Count\n",
    "How many school opponents did Men’s Basketball played in 2016? Provide both Python code and the\n",
    "answer."
   ]
  },
  {
   "cell_type": "code",
   "execution_count": 7,
   "metadata": {},
   "outputs": [
    {
     "name": "stdout",
     "output_type": "stream",
     "text": [
      "Number of school opponents played in 2016: 20\n"
     ]
    }
   ],
   "source": [
    "opponents = df2016['Opponent'].nunique()\n",
    "print(\"Number of school opponents played in 2016:\", opponents)"
   ]
  },
  {
   "attachments": {},
   "cell_type": "markdown",
   "metadata": {},
   "source": [
    "6. Filter\n",
    "List all the games that UIC scored more than 65 points. Provide both Python code and the answer."
   ]
  },
  {
   "cell_type": "code",
   "execution_count": 16,
   "metadata": {},
   "outputs": [
    {
     "name": "stdout",
     "output_type": "stream",
     "text": [
      "          Date           Opponent  UIC Score  Opp Score  \\\n",
      "0   11/13/2015      San Francisco         75         78   \n",
      "2   11/24/2015          Roosevelt         96         58   \n",
      "6   12/12/2015           Illinois         79         83   \n",
      "9   12/22/2015     Purdue Calumet         91         72   \n",
      "12    1/8/2016            Detroit         69         87   \n",
      "14   1/14/2016          Green Bay         76         78   \n",
      "17   1/22/2016  Northern Kentucky         69         82   \n",
      "18   1/24/2016       Wright State         66         80   \n",
      "19   1/28/2016   Youngstown State         78         82   \n",
      "20   1/30/2016    Cleveland State         72         70   \n",
      "23   2/13/2016  Northern Kentucky         79         77   \n",
      "24   2/16/2016   Youngstown State         91         92   \n",
      "25   2/19/2016            Detroit         72         83   \n",
      "27   2/26/2016          Green Bay         69         85   \n",
      "28   2/28/2016          Milwaukee         85         98   \n",
      "\n",
      "   UIC Field Goal Percentage  Opp Field Goal Percentage  \\\n",
      "0                       28.0                         24   \n",
      "2                       35.0                         22   \n",
      "6                          -                         25   \n",
      "9                       30.0                         26   \n",
      "12                      21.0                         26   \n",
      "14                      29.0                         29   \n",
      "17                      23.0                         25   \n",
      "18                      22.0                         29   \n",
      "19                         -                         29   \n",
      "20                      21.0                         26   \n",
      "23                      24.0                         27   \n",
      "24                      38.0                         35   \n",
      "25                      24.0                         27   \n",
      "27                      22.0                         30   \n",
      "28                      30.0                         30   \n",
      "\n",
      "   UIC 3 point Field Goal Percentage Opp 3 point Field Goal Percentage  \\\n",
      "0                                8.0                               8.0   \n",
      "2                                1.0                               5.0   \n",
      "6                                9.0                               9.0   \n",
      "9                               10.0                               8.0   \n",
      "12                               2.0                               4.0   \n",
      "14                               5.0                               4.0   \n",
      "17                               1.0                               9.0   \n",
      "18                               2.0                               9.0   \n",
      "19                               5.0                              14.0   \n",
      "20                               4.0                               4.0   \n",
      "23                               7.0                               9.0   \n",
      "24                               6.0                               5.0   \n",
      "25                               4.0                               7.0   \n",
      "27                               6.0                               9.0   \n",
      "28                               9.0                              15.0   \n",
      "\n",
      "    UIC Rebound Opp Rebound UIC Assists  Opp Assists  \n",
      "0            36        42.0        17.0           15  \n",
      "2            52        23.0           -           15  \n",
      "6            38        25.0        18.0           18  \n",
      "9            36           -        21.0           18  \n",
      "12           35        32.0         6.0           10  \n",
      "14           33        40.0        20.0           19  \n",
      "17           36        34.0         3.0           14  \n",
      "18           36        25.0           -           14  \n",
      "19           49        37.0        16.0           21  \n",
      "20           35        34.0        13.0           16  \n",
      "23           45        30.0        13.0           16  \n",
      "24           60        45.0        12.0           11  \n",
      "25           34        36.0         9.0           19  \n",
      "27           31        44.0         7.0           17  \n",
      "28           36        39.0        13.0           25  \n"
     ]
    }
   ],
   "source": [
    "uic_high_scoring_games = df2016[df2016['UIC Score'] > 65]\n",
    "print(uic_high_scoring_games)"
   ]
  },
  {
   "attachments": {},
   "cell_type": "markdown",
   "metadata": {},
   "source": [
    "7. Win-Los-Tie\n",
    "Calculate numbers of games of Wins, Losses and Ties, accordingly."
   ]
  },
  {
   "cell_type": "code",
   "execution_count": 17,
   "metadata": {},
   "outputs": [
    {
     "name": "stdout",
     "output_type": "stream",
     "text": [
      "Number of Wins: 5\n",
      "Number of Losses: 25\n",
      "Number of Ties: 0\n"
     ]
    }
   ],
   "source": [
    "num_wins = len(df2016[df2016['UIC Score'] > df2016['Opp Score']])\n",
    "num_losses = len(df2016[df2016['UIC Score'] < df2016['Opp Score']])\n",
    "num_ties = len(df2016[df2016['UIC Score'] == df2016['Opp Score']])\n",
    "\n",
    "print(\"Number of Wins:\", num_wins)\n",
    "print(\"Number of Losses:\", num_losses)\n",
    "print(\"Number of Ties:\", num_ties)"
   ]
  },
  {
   "attachments": {},
   "cell_type": "markdown",
   "metadata": {},
   "source": [
    "Exercise 2. "
   ]
  },
  {
   "attachments": {},
   "cell_type": "markdown",
   "metadata": {},
   "source": [
    "1. Load data and add column names.\n",
    "(Hint: To load data from .txt with pandas, you can use data = pd.read_csv(‘test.txt', sep=\",\") )"
   ]
  },
  {
   "cell_type": "code",
   "execution_count": 23,
   "metadata": {},
   "outputs": [],
   "source": [
    "\n",
    "columns = ['ID', 'First Name', 'Last Name', 'Gender', 'Age', 'Country', 'Job Category', 'Hire Date', 'Salary']\n",
    "data = pd.read_csv('customer-savings.txt', sep=',', header=None, names=columns)"
   ]
  },
  {
   "attachments": {},
   "cell_type": "markdown",
   "metadata": {},
   "source": [
    "2. What’s the average balance for male and female? Provide both Python code and the answer"
   ]
  },
  {
   "cell_type": "code",
   "execution_count": 24,
   "metadata": {},
   "outputs": [
    {
     "name": "stdout",
     "output_type": "stream",
     "text": [
      "Average balance for male: 40018.01\n",
      "Average balance for female: 39471.90\n"
     ]
    }
   ],
   "source": [
    "# Group data by gender and compute mean salary\n",
    "gender_mean_salary = data.groupby('Gender')['Salary'].mean()\n",
    "\n",
    "print(\"Average balance for male: {:.2f}\".format(gender_mean_salary['Male']))\n",
    "print(\"Average balance for female: {:.2f}\".format(gender_mean_salary['Female']))"
   ]
  },
  {
   "attachments": {},
   "cell_type": "markdown",
   "metadata": {},
   "source": [
    "3. What’s the average balance for while collar and blue collar in England? Provide both Python\n",
    "code and the answer"
   ]
  },
  {
   "cell_type": "code",
   "execution_count": 27,
   "metadata": {},
   "outputs": [
    {
     "name": "stdout",
     "output_type": "stream",
     "text": [
      "Average balance for White Collar workers in England: 39156.31\n",
      "Average balance for Blue Collar workers in England: 38567.84\n"
     ]
    }
   ],
   "source": [
    "\n",
    "filtered_data = data[(data['Country'] == 'England') & ((data['Job Category'] == 'White Collar') | (data['Job Category'] == 'Blue Collar'))]\n",
    "job_category_mean_salary = filtered_data.groupby('Job Category')['Salary'].mean()\n",
    "\n",
    "print(\"Average balance for White Collar workers in England: {:.2f}\".format(job_category_mean_salary['White Collar']))\n",
    "print(\"Average balance for Blue Collar workers in England: {:.2f}\".format(job_category_mean_salary['Blue Collar']))"
   ]
  },
  {
   "attachments": {},
   "cell_type": "markdown",
   "metadata": {},
   "source": [
    "Exercise 3. "
   ]
  },
  {
   "attachments": {},
   "cell_type": "markdown",
   "metadata": {},
   "source": [
    "1. Inner join on column “Account Number”.\n",
    "2. Full outer join on column “Account Number”."
   ]
  },
  {
   "cell_type": "code",
   "execution_count": 31,
   "metadata": {},
   "outputs": [
    {
     "name": "stdout",
     "output_type": "stream",
     "text": [
      "     account number                           name_x  status  \\\n",
      "0            740150                       Barton LLC    gold   \n",
      "1            740150                       Barton LLC    gold   \n",
      "2            740150                       Barton LLC    gold   \n",
      "3            714466                  Trantow-Barrows  silver   \n",
      "4            714466                  Trantow-Barrows  silver   \n",
      "..              ...                              ...     ...   \n",
      "113          257198  Cronin, Oberbrunner and Spencer    gold   \n",
      "114          257198  Cronin, Oberbrunner and Spencer    gold   \n",
      "115          257198  Cronin, Oberbrunner and Spencer    gold   \n",
      "116          257198  Cronin, Oberbrunner and Spencer    gold   \n",
      "117          257198  Cronin, Oberbrunner and Spencer    gold   \n",
      "\n",
      "                              name_y       sku  quantity  unit price  \\\n",
      "0                         Barton LLC  S1-82801        29       60.81   \n",
      "1                         Barton LLC  B1-20000        20       73.93   \n",
      "2                         Barton LLC  S2-83881        12       22.62   \n",
      "3                    Trantow-Barrows  B1-33087        43       32.77   \n",
      "4                    Trantow-Barrows  S2-16558        20       78.23   \n",
      "..                               ...       ...       ...         ...   \n",
      "113  Cronin, Oberbrunner and Spencer  S1-93683        34       79.57   \n",
      "114  Cronin, Oberbrunner and Spencer  S1-82801        22       12.01   \n",
      "115  Cronin, Oberbrunner and Spencer  S2-00301        19       41.81   \n",
      "116  Cronin, Oberbrunner and Spencer  S1-30248        11       58.82   \n",
      "117  Cronin, Oberbrunner and Spencer  S2-77896         4       23.04   \n",
      "\n",
      "     ext price                 date  \n",
      "0      1763.49  2014-03-07 10:24:54  \n",
      "1      1478.60  2014-03-15 18:21:23  \n",
      "2       271.44  2014-03-17 02:39:33  \n",
      "3      1409.11  2014-03-14 12:47:48  \n",
      "4      1564.60  2014-03-17 09:03:19  \n",
      "..         ...                  ...  \n",
      "113    2705.38  2014-03-12 08:58:47  \n",
      "114     264.22  2014-03-17 10:05:43  \n",
      "115     794.39  2014-03-27 03:52:01  \n",
      "116     647.02  2014-03-27 20:40:13  \n",
      "117      92.16  2014-03-30 18:12:17  \n",
      "\n",
      "[118 rows x 9 columns]\n",
      "     account number           name_x  status                         name_y  \\\n",
      "0            740150       Barton LLC    gold                     Barton LLC   \n",
      "1            740150       Barton LLC    gold                     Barton LLC   \n",
      "2            740150       Barton LLC    gold                     Barton LLC   \n",
      "3            714466  Trantow-Barrows  silver                Trantow-Barrows   \n",
      "4            714466  Trantow-Barrows  silver                Trantow-Barrows   \n",
      "..              ...              ...     ...                            ...   \n",
      "137          604255              NaN     NaN  Halvorson, Crona and Champlin   \n",
      "138          604255              NaN     NaN  Halvorson, Crona and Champlin   \n",
      "139          604255              NaN     NaN  Halvorson, Crona and Champlin   \n",
      "140          604255              NaN     NaN  Halvorson, Crona and Champlin   \n",
      "141          604255              NaN     NaN  Halvorson, Crona and Champlin   \n",
      "\n",
      "          sku  quantity  unit price  ext price                 date  \n",
      "0    S1-82801        29       60.81    1763.49  2014-03-07 10:24:54  \n",
      "1    B1-20000        20       73.93    1478.60  2014-03-15 18:21:23  \n",
      "2    S2-83881        12       22.62     271.44  2014-03-17 02:39:33  \n",
      "3    B1-33087        43       32.77    1409.11  2014-03-14 12:47:48  \n",
      "4    S2-16558        20       78.23    1564.60  2014-03-17 09:03:19  \n",
      "..        ...       ...         ...        ...                  ...  \n",
      "137  B1-33087        28       61.35    1717.80  2014-03-21 05:41:09  \n",
      "138  S2-00301        35       24.33     851.55  2014-03-21 20:12:32  \n",
      "139  S2-77896        23       64.91    1492.93  2014-03-24 19:21:21  \n",
      "140  B1-53102        32       86.77    2776.64  2014-03-30 01:14:16  \n",
      "141  S2-78676        18       57.02    1026.36  2014-03-31 06:53:52  \n",
      "\n",
      "[142 rows x 9 columns]\n"
     ]
    }
   ],
   "source": [
    "customer_status = pd.read_csv('customer-status.csv')\n",
    "sales = pd.read_csv('sales.csv')\n",
    "\n",
    "merged_inner = pd.merge(customer_status, sales, on=\"account number\", how=\"inner\")\n",
    "merged_outer = pd.merge(customer_status, sales, on=\"account number\", how=\"outer\")\n",
    "\n",
    "print(merged_inner)\n",
    "print(merged_outer)\n",
    "\n"
   ]
  },
  {
   "attachments": {},
   "cell_type": "markdown",
   "metadata": {},
   "source": [
    "3. Left join on column “Account Number”, using customer-status.csv as the base."
   ]
  },
  {
   "cell_type": "code",
   "execution_count": 1,
   "metadata": {},
   "outputs": [
    {
     "ename": "NameError",
     "evalue": "name 'pd' is not defined",
     "output_type": "error",
     "traceback": [
      "\u001b[0;31m---------------------------------------------------------------------------\u001b[0m",
      "\u001b[0;31mNameError\u001b[0m                                 Traceback (most recent call last)",
      "Cell \u001b[0;32mIn[1], line 1\u001b[0m\n\u001b[0;32m----> 1\u001b[0m left_join_customer \u001b[39m=\u001b[39m pd\u001b[39m.\u001b[39mmerge(customer_status, sales, on\u001b[39m=\u001b[39m\u001b[39m'\u001b[39m\u001b[39maccount number\u001b[39m\u001b[39m'\u001b[39m, how\u001b[39m=\u001b[39m\u001b[39m'\u001b[39m\u001b[39mleft\u001b[39m\u001b[39m'\u001b[39m)\n\u001b[1;32m      2\u001b[0m \u001b[39mprint\u001b[39m(left_join_customer)\n",
      "\u001b[0;31mNameError\u001b[0m: name 'pd' is not defined"
     ]
    }
   ],
   "source": [
    "left_join_customer = pd.merge(customer_status, sales, on='account number', how='left')\n",
    "print(left_join_customer)"
   ]
  },
  {
   "attachments": {},
   "cell_type": "markdown",
   "metadata": {},
   "source": [
    "4. Left join on column “Account Number”, using sales.csv as the base."
   ]
  },
  {
   "cell_type": "code",
   "execution_count": 35,
   "metadata": {},
   "outputs": [
    {
     "name": "stdout",
     "output_type": "stream",
     "text": [
      "     account number                        name_x       sku  quantity  \\\n",
      "0            163416                   Purdy-Kunde  S1-30248        19   \n",
      "1            527099              Sanford and Sons  S2-82423         3   \n",
      "2            527099              Sanford and Sons  B1-50809         8   \n",
      "3            737550  Fritsch, Russel and Anderson  B1-50809        20   \n",
      "4            688981                   Keeling LLC  B1-86481        -1   \n",
      "..              ...                           ...       ...       ...   \n",
      "137          737550  Fritsch, Russel and Anderson  B1-65551        12   \n",
      "138          642753                   Pollich LLC  S1-93683        21   \n",
      "139          412290                 Jerde-Hilpert  B1-20000        30   \n",
      "140          307599   Kassulke, Ondricka and Metz  S2-16558        46   \n",
      "141          672390               Kuhn-Gusikowski  B1-04202        19   \n",
      "\n",
      "     unit price  ext price                 date                       name_y  \\\n",
      "0         65.03    1235.57  2014-03-01 16:07:40                          NaN   \n",
      "1         76.21     228.63  2014-03-01 17:18:01             Sanford and Sons   \n",
      "2         70.78     566.24  2014-03-01 18:53:09             Sanford and Sons   \n",
      "3         50.11    1002.20  2014-03-01 23:47:17                          NaN   \n",
      "4         97.16     -97.16  2014-03-02 01:46:44                  Keeling LLC   \n",
      "..          ...        ...                  ...                          ...   \n",
      "137       56.24     674.88  2014-03-31 08:43:24                          NaN   \n",
      "138       92.57    1943.97  2014-03-31 11:37:34                  Pollich LLC   \n",
      "139       22.38     671.40  2014-03-31 21:41:31                Jerde-Hilpert   \n",
      "140       56.04    2577.84  2014-03-31 22:11:22  Kassulke, Ondricka and Metz   \n",
      "141       27.86     529.34  2014-03-31 23:13:14              Kuhn-Gusikowski   \n",
      "\n",
      "     status  \n",
      "0       NaN  \n",
      "1    bronze  \n",
      "2    bronze  \n",
      "3       NaN  \n",
      "4    silver  \n",
      "..      ...  \n",
      "137     NaN  \n",
      "138  bronze  \n",
      "139  bronze  \n",
      "140  bronze  \n",
      "141  silver  \n",
      "\n",
      "[142 rows x 9 columns]\n"
     ]
    }
   ],
   "source": [
    "left_join_sales = pd.merge(sales, customer_status, on='account number', how='left')\n",
    "print(left_join_sales)"
   ]
  }
 ],
 "metadata": {
  "kernelspec": {
   "display_name": "Python 3",
   "language": "python",
   "name": "python3"
  },
  "language_info": {
   "codemirror_mode": {
    "name": "ipython",
    "version": 3
   },
   "file_extension": ".py",
   "mimetype": "text/x-python",
   "name": "python",
   "nbconvert_exporter": "python",
   "pygments_lexer": "ipython3",
   "version": "3.11.0"
  },
  "orig_nbformat": 4
 },
 "nbformat": 4,
 "nbformat_minor": 2
}
