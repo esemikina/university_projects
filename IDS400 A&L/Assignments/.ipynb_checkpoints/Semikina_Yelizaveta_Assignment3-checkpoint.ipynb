{
 "cells": [
  {
   "cell_type": "markdown",
   "metadata": {},
   "source": [
    "1. Dice probability distribution simulation (20 points)\n",
    "You roll the dice 10,000 times. Each time you get one of six sides with a probability of 1/6. You need to\n",
    "generate the total number of occurrences for each side, store them in a dictionary.\n",
    "For example: If you roll the dice 10 times. Assume the number of occurrences for each side is this:\n",
    "Sides 1 2 3 4 5 6\n",
    "occurrences 3 0 2 1 1 3\n",
    "Then the output is: {1:3, 2:0, 3:2, 4:1, 5:1, 6:3}\n",
    "Hint: This rolling is equal to choosing a random number in [1,2,3,4,5,6]. You need to use\n",
    "random.ranint(start, stop) to generate an integer between 1 and 6."
   ]
  },
  {
   "cell_type": "code",
   "execution_count": 5,
   "metadata": {},
   "outputs": [
    {
     "name": "stdout",
     "output_type": "stream",
     "text": [
      "{1: 1696, 2: 1641, 3: 1666, 4: 1694, 5: 1626, 6: 1677}\n"
     ]
    }
   ],
   "source": [
    "import random\n",
    "\n",
    "occurrences = {1: 0, 2: 0, 3: 0, 4: 0, 5: 0, 6: 0}\n",
    "\n",
    "for i in range(10000):\n",
    "    roll = random.randint(1, 6)\n",
    "    occurrences[roll] += 1\n",
    "\n",
    "print(occurrences)\n"
   ]
  },
  {
   "cell_type": "markdown",
   "metadata": {},
   "source": [
    "2. Sentence comparison (20 points)\n",
    "You receive two sentences as inputs from the keyboard and compare them. The output is the number of\n",
    "common unique characters in two sentences. It should be case insensitive.\n",
    "For example:\n",
    "sentence 1: “I like Python programming”\n",
    "sentence 2: “I like java”\n",
    "Then the output is: 6. (they are: i, l, k, e, a, and space).\n",
    "Hint: To convert a string to a lowercase string, use s.lower()\n",
    ">>> x = ‘HELLO’\n",
    "\n",
    ">>> print(x.lower())\n",
    "\n",
    "Hello"
   ]
  },
  {
   "cell_type": "code",
   "execution_count": 4,
   "metadata": {},
   "outputs": [
    {
     "name": "stdout",
     "output_type": "stream",
     "text": [
      "Enter the first sentence: i love dogs\n",
      "Enter the second sentence: dogs are cute\n",
      "The number of common unique characters is: 6\n"
     ]
    }
   ],
   "source": [
    "sentence1 = input(\"Enter the first sentence: \")\n",
    "sentence2 = input(\"Enter the second sentence: \")\n",
    "\n",
    "sentence1 = sentence1.lower()\n",
    "sentence2 = sentence2.lower()\n",
    "\n",
    "unique_chars1 = set(sentence1)\n",
    "unique_chars2 = set(sentence2)\n",
    "\n",
    "common_chars = unique_chars1.intersection(unique_chars2)\n",
    "num_common_chars = len(common_chars)\n",
    "print(\"The number of common unique characters is:\", num_common_chars)\n"
   ]
  },
  {
   "cell_type": "markdown",
   "metadata": {},
   "source": [
    "3. Sentence split (30 points)\n",
    "You receive one sentence and two delimiters from the keyboard. Then you separate all strings in that\n",
    "sentence.\n",
    "For example:\n",
    "sentence: “I like computer programming, including Python, Java, and C/C++”\n",
    "delimiters: , /\n",
    "Then the output list will be:\n",
    "[‘I like computer programming’, ‘including Python’, ‘Java’, ‘and C’, ‘C++’]\n",
    "Hint: One suggestion is to use variable length arguments. You can also consider split() function for\n",
    "strings."
   ]
  },
  {
   "cell_type": "code",
   "execution_count": 3,
   "metadata": {},
   "outputs": [
    {
     "name": "stdout",
     "output_type": "stream",
     "text": [
      "Enter the sentence: i love corgis\n",
      "Enter the two delimiters (separated by a space): . ,\n",
      "['i love corgis']\n"
     ]
    }
   ],
   "source": [
    "sentence = input(\"Enter the sentence: \")\n",
    "delimiter1, delimiter2 = input(\"Enter the two delimiters (separated by a space): \").split()\n",
    "\n",
    "sentence = sentence.replace(delimiter1, ',')\n",
    "sentence = sentence.replace(delimiter2, ',')\n",
    "\n",
    "split_list = [s.strip() for s in sentence.split(',')]\n",
    "\n",
    "print(split_list)"
   ]
  },
  {
   "cell_type": "markdown",
   "metadata": {},
   "source": [
    "4. Sort dictionary (30 points)\n",
    "Write a program that can sort a given dictionary either by key or value in ascending order. The\n",
    "program allows users to choose operations (1: sort by key, 2: sort by value). If the given dictionary\n",
    "is: d = {'x': 7, 'y': 2, 'a': 3, 'm': 2}, the running output is following.\n",
    "please select operation: (1: sort by key, 2: sort by value) 1\n",
    "a , 3\n",
    "m , 2\n",
    "x , 7\n",
    "y , 2\n",
    "please select operation: (1: sort by key, 2: sort by value) 2\n",
    "y , 2\n",
    "m , 2\n",
    "a , 3\n",
    "x , 7"
   ]
  },
  {
   "cell_type": "code",
   "execution_count": 2,
   "metadata": {},
   "outputs": [
    {
     "name": "stdout",
     "output_type": "stream",
     "text": [
      "Please select operation: (1: sort by key, 2: sort by value) 1\n",
      "a , 3\n",
      "m , 2\n",
      "x , 7\n",
      "y , 2\n",
      "Do you want to continue? (y/n) n\n"
     ]
    }
   ],
   "source": [
    "d = {'x': 7, 'y': 2, 'a': 3, 'm': 2}\n",
    "\n",
    "while True:\n",
    "    operation = input(\"Please select operation: (1: sort by key, 2: sort by value) \")\n",
    "\n",
    "    if operation == '1':\n",
    "        sorted_dict = {k: d[k] for k in sorted(d)}\n",
    "    elif operation == '2':\n",
    "        sorted_dict = {k: v for k, v in sorted(d.items(), key=lambda item: item[1])}\n",
    "    else:\n",
    "        print(\"Invalid operation. Please try again.\")\n",
    "        continue\n",
    "\n",
    "    for k, v in sorted_dict.items():\n",
    "        print(k, \",\", v)\n",
    "\n",
    "    choice = input(\"Do you want to continue? (y/n) \")\n",
    "    if choice.lower() != 'y':\n",
    "        break\n"
   ]
  },
  {
   "cell_type": "code",
   "execution_count": null,
   "metadata": {},
   "outputs": [],
   "source": []
  }
 ],
 "metadata": {
  "kernelspec": {
   "display_name": "Python 3 (ipykernel)",
   "language": "python",
   "name": "python3"
  },
  "language_info": {
   "codemirror_mode": {
    "name": "ipython",
    "version": 3
   },
   "file_extension": ".py",
   "mimetype": "text/x-python",
   "name": "python",
   "nbconvert_exporter": "python",
   "pygments_lexer": "ipython3",
   "version": "3.9.7"
  },
  "vscode": {
   "interpreter": {
    "hash": "aee8b7b246df8f9039afb4144a1f6fd8d2ca17a180786b69acc140d282b71a49"
   }
  }
 },
 "nbformat": 4,
 "nbformat_minor": 2
}
