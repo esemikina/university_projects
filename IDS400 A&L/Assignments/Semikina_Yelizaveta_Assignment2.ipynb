{
 "cells": [
  {
   "cell_type": "markdown",
   "metadata": {},
   "source": [
    "Exercise 1 (10 points)\n",
    "Write a program that asks the user to enter a positive integer n, and calculates the sum of the integers 1 +\n",
    "3 + 5 + 7 + … + (2n-1) and prints out this sum to the screen. For example, when n is 5, 2n-1 is 9, thus the\n",
    "sum of integers is 1+3+5+7+9=25.\n",
    "Your program should be able to handle the invalid case where the input is negative. You must use loop to\n",
    "do this task.\n",
    "Sample Run 1\n",
    "Enter a positive integer: 5\n",
    "The sum is: 25\n",
    "Sample Run 2\n",
    "Enter a positive integer: -5\n",
    "The input you gave is not valid. It must be positive."
   ]
  },
  {
   "cell_type": "code",
   "execution_count": 14,
   "metadata": {},
   "outputs": [
    {
     "name": "stdout",
     "output_type": "stream",
     "text": [
      "The sum is: 25\n"
     ]
    }
   ],
   "source": [
    "n = int(input(\"Enter a positive integer: \"))\n",
    "if n <= 0:\n",
    "    print(\"The input you gave is not valid. It must be positive.\")\n",
    "else:\n",
    "    sum = 0\n",
    "    for i in range(1, 2*n, 2):\n",
    "        sum += i\n",
    "    print(\"The sum is:\", sum)"
   ]
  },
  {
   "cell_type": "markdown",
   "metadata": {},
   "source": [
    "Exercise 2 (15 points)\n",
    "Write a program that asks the user to enter a positive integer n, and prints out the following shape. You\n",
    "must use nested loop in your program. The gap between two numbers could be a space or a tab.\n",
    "Sample Run\n",
    "Enter a positive integer: 7\n",
    "Output: \n",
    "1\n",
    "1 2\n",
    "1 2 3\n",
    "1 2 3 4\n",
    "1 2 3 4 5\n",
    "1 2 3 4 5 6\n",
    "1 2 3 4 5 6 7"
   ]
  },
  {
   "cell_type": "code",
   "execution_count": null,
   "metadata": {},
   "outputs": [
    {
     "name": "stdout",
     "output_type": "stream",
     "text": [
      "1 \n",
      "1 2 \n",
      "1 2 3 \n",
      "1 2 3 4 \n",
      "1 2 3 4 5 \n",
      "1 2 3 4 5 6 \n",
      "1 2 3 4 5 6 7 \n",
      "1 2 3 4 5 6 7 8 \n"
     ]
    }
   ],
   "source": [
    "n = int(input(\"Enter a positive integer: \"))\n",
    "for i in range(1, n+1):\n",
    "    for j in range(1, i+1):\n",
    "        print(j, end=\" \")\n",
    "    print()"
   ]
  },
  {
   "cell_type": "markdown",
   "metadata": {},
   "source": [
    "Exercise 3 (15 points)\n",
    "Create a calculator that can add, subtract, multiply or divide depending upon the input from the user,\n",
    "using loop and conditional statements. After each round of calculation, ask the user if the program should\n",
    "continue, if ‘y’, run your program again; if ‘n’, stop and print ‘Bye’; otherwise, stop and print ‘wrong\n",
    "input’.\n",
    "Sample run 1:\n",
    "Select operation: 1. Add 2. Subtract 3. Multiply 4. Divide\n",
    "Enter choice (1/2/3/4): 3\n",
    "Enter first number: 15\n",
    "Enter second number: 14\n",
    "15 * 14 = 210\n",
    "Do you want to do another calculation (y/n)? n\n",
    "Bye\n",
    "Sample run 2:\n",
    "Select operation: 1. Add 2. Subtract 3. Multiply 4. Divide\n",
    "Enter choice (1/2/3/4): 2\n",
    "Enter first number: 15\n",
    "Enter second number: 14\n",
    "15 - 14 = 1\n",
    "Do you want to do another calculation (y/n)? y\n",
    "Select operation: 1. Add 2. Subtract 3. Multiply 4. Divide\n",
    "…….\n",
    "Hints:\n",
    "Make an infinite loop with a stopping criterion."
   ]
  },
  {
   "cell_type": "code",
   "execution_count": null,
   "metadata": {},
   "outputs": [
    {
     "name": "stdout",
     "output_type": "stream",
     "text": [
      "Select operation:\n",
      "1. Add\n",
      "2. Subtract\n",
      "3. Multiply\n",
      "4. Divide\n",
      "1 + 2 = 3\n",
      "Bye\n"
     ]
    }
   ],
   "source": [
    "while True:\n",
    "    print(\"Select operation:\")\n",
    "    print(\"1. Add\")\n",
    "    print(\"2. Subtract\")\n",
    "    print(\"3. Multiply\")\n",
    "    print(\"4. Divide\")\n",
    "    \n",
    "    choice = int(input(\"Select Operation: 1. Add 2. Subtract 3. Multiply 4. Divide\"))\n",
    "    if choice in [1, 2, 3, 4]:\n",
    "        num1 = int(input(\"Enter first number: \"))\n",
    "        num2 = int(input(\"Enter second number: \"))\n",
    "        \n",
    "        if choice == 1:\n",
    "            result = num1 + num2\n",
    "            symbol = \"+\"\n",
    "        elif choice == 2:\n",
    "            result = num1 - num2\n",
    "            symbol = \"-\"\n",
    "        elif choice == 3:\n",
    "            result = num1 * num2\n",
    "            symbol = \"*\"\n",
    "        else:\n",
    "            result = num1 / num2\n",
    "            symbol = \"/\"\n",
    "        \n",
    "        print(\"{} {} {} {} {}\".format(num1, symbol, num2, \"=\", result))\n",
    "    else:\n",
    "        print(\"Invalid Input\")\n",
    "    \n",
    "    again = input(\"Do you want to do another calculation (y/n)? \")\n",
    "    if again == \"y\":\n",
    "        continue\n",
    "    elif again == \"n\":\n",
    "        print(\"Bye\")\n",
    "        break\n",
    "    else:\n",
    "        print(\"Wrong input\")\n",
    "        break"
   ]
  },
  {
   "cell_type": "markdown",
   "metadata": {},
   "source": [
    "Exercise 4 (20 points)\n",
    "Marble Game\n",
    "Write a program that allows to players to play the marble game using combinations of loop and\n",
    "conditional statements. In the marble game, you ask the user to enter how many marbles to start with.\n",
    "Then, the game begins. The first player must take 1, 2 or 3 marbles. Then the second player goes and\n",
    "must take 1, 2 or 3 marbles. The winner is the player who takes the last marble. Allow two users to play\n",
    "this game and print out the winner (player #1 or player#2). Assume that both players enter valid inputs (1,\n",
    "2 or 3, and they never try to take more marbles than there are in the pile.)\n",
    "Sample Run 1\n",
    "How many marbles to start with? 10\n",
    "Player #1, there are 10 marbles left. How many marbles will you take? 2\n",
    "Player #2, there are 8 marbles left. How many marbles will you take? 2\n",
    "Player #1, there are 6 marbles left. How many marbles will you take? 2\n",
    "Player #2, there are 4 marbles left. How many marbles will you take? 1\n",
    "Player #1, there are 3 marbles left. How many marbles will you take? 3\n",
    "Player #1, you took the last marble and have won!\n",
    "Sample Run 2\n",
    "How many marbles to start with? 10\n",
    "Player #1, there are 10 marbles left. How many marbles will you take? 2\n",
    "Player #2, there are 8 marbles left. How many marbles will you take? 3\n",
    "Player #1, there are 5 marbles left. How many marbles will you take? 3\n",
    "Player #2, there are 2 marbles left. How many marbles will you take? 2\n",
    "Player #2, you took the last marble and have won! "
   ]
  },
  {
   "cell_type": "code",
   "execution_count": null,
   "metadata": {},
   "outputs": [
    {
     "name": "stdout",
     "output_type": "stream",
     "text": [
      "Player #1, there are 10 marbles left. How many marbles will you take?\n",
      "Player #2, there are 8 marbles left. How many marbles will you take?\n",
      "Player #1, there are 5 marbles left. How many marbles will you take?\n",
      "Player #2, there are 3 marbles left. How many marbles will you take?\n",
      "Player #2, you took the last marble and have won!\n"
     ]
    }
   ],
   "source": [
    "def play_marble_game():\n",
    "    marbles = int(input(\"How many marbles to start with? \"))\n",
    "    turn = 1\n",
    "    while marbles > 0:\n",
    "        print(f\"Player #{turn}, there are {marbles} marbles left. How many marbles will you take?\")\n",
    "        taken = int(input())\n",
    "        while taken < 1 or taken > 3:\n",
    "            print(\"Invalid input. You must take 1, 2 or 3 marbles.\")\n",
    "            taken = int(input())\n",
    "        marbles -= taken\n",
    "        if marbles <= 0:\n",
    "            print(f\"Player #{turn}, you took the last marble and have won!\")\n",
    "        turn = 3 - turn\n",
    "\n",
    "play_marble_game()"
   ]
  },
  {
   "cell_type": "markdown",
   "metadata": {},
   "source": [
    "Exercise 5 (20 points)\n",
    "Write a program that asks the user to enter a positive integer n as the height of the following shape and\n",
    "prints out this shape. You must use loop to do this task.\n",
    "Sample Run\n",
    "Enter a positive integer: 5\n",
    "Output:\n",
    "* *\n",
    "*** ***\n",
    "***** *****\n",
    "******* *******\n",
    "******************"
   ]
  },
  {
   "cell_type": "code",
   "execution_count": 11,
   "metadata": {},
   "outputs": [
    {
     "name": "stdout",
     "output_type": "stream",
     "text": [
      "*        *\n",
      "***      ***\n",
      "*****    *****\n",
      "*******  *******\n",
      "********* \n"
     ]
    }
   ],
   "source": [
    "def play():\n",
    "    n = int(input(\"Enter a positive integer: \"))\n",
    "    max = (n + 1) * 2\n",
    "\n",
    "    # main\n",
    "    for row in range(1, n+1):\n",
    "        stars = row*2 # 1\n",
    "        spaces = max - stars\n",
    "        # stars\n",
    "        for col in range(1, stars):\n",
    "            print(\"*\", end=\" \")\n",
    "        # spaces\n",
    "        for col in range(1, spaces):\n",
    "            print(\"_\", end=\" \")\n",
    "        # spaces\n",
    "        for col in range(1, spaces):\n",
    "            print(\"_\", end=\" \")\n",
    "        # stars\n",
    "        for col in range(1, stars):\n",
    "            print(\"*\", end=\" \")\n",
    "        # new lines\n",
    "        print(\"\")\n",
    "        print(\"\")\n",
    "\n",
    "    # last\n",
    "    for last in range(0, (max*2) - 4):\n",
    "        print(\"*\", end=\" \")\n",
    "\n",
    "play()"
   ]
  },
  {
   "cell_type": "markdown",
   "metadata": {},
   "source": [
    "Exercise 6 (20 points)\n",
    "\n",
    "In mathematics, the Leibniz formula for π, named after Gottfried Leibniz, states that\n",
    "∑\n",
    "(−1)\n",
    "𝑛\n",
    "2𝑛 + 1\n",
    "∞\n",
    "𝑛=0\n",
    "=\n",
    "𝜋\n",
    "4\n",
    "Which is,\n",
    "1 −\n",
    "1\n",
    "3\n",
    "+\n",
    "1\n",
    "5\n",
    "−\n",
    "1\n",
    "7\n",
    "+ ⋯ =\n",
    "𝜋\n",
    "4\n",
    "Write a program that calculates π. The more terms you sum up, the more accurate result you can obtain.\n",
    "Hints:\n",
    "(1) Make an infinite loop with a stopping criterion\n",
    "(2) If the stopping criterion satisfies, then stop the loop\n",
    "(3) Some simple stopping criteria:\n",
    "a) The number of terms you add up is a large number (e.g., 10000);\n",
    "b) The sum difference between the current one (with one more term) and the previous one is very\n",
    "small (e.g., 0.001) "
   ]
  },
  {
   "cell_type": "code",
   "execution_count": 13,
   "metadata": {},
   "outputs": [
    {
     "name": "stdout",
     "output_type": "stream",
     "text": [
      "Approximation of pi:  4.0\n"
     ]
    }
   ],
   "source": [
    "def calculate_pi(terms, tolerance):\n",
    "    sum = 0\n",
    "    previous_sum = 0\n",
    "    for n in range(0, terms):\n",
    "        current_sum = 4 * (-1)**n / (2*n + 1)\n",
    "        sum += current_sum\n",
    "        if abs(sum - previous_sum) < tolerance:\n",
    "            break\n",
    "        previous_sum = sum\n",
    "    return sum\n",
    "\n",
    "terms = int(input(\"Enter the number of terms: \"))\n",
    "tolerance = float(input(\"Enter the tolerance value: \"))\n",
    "\n",
    "result = calculate_pi(terms, tolerance)\n",
    "print(\"Approximation of pi: \", result)"
   ]
  }
 ],
 "metadata": {
  "kernelspec": {
   "display_name": "Python 3 (ipykernel)",
   "language": "python",
   "name": "python3"
  },
  "language_info": {
   "codemirror_mode": {
    "name": "ipython",
    "version": 3
   },
   "file_extension": ".py",
   "mimetype": "text/x-python",
   "name": "python",
   "nbconvert_exporter": "python",
   "pygments_lexer": "ipython3",
   "version": "3.9.7"
  },
  "vscode": {
   "interpreter": {
    "hash": "aee8b7b246df8f9039afb4144a1f6fd8d2ca17a180786b69acc140d282b71a49"
   }
  }
 },
 "nbformat": 4,
 "nbformat_minor": 2
}
