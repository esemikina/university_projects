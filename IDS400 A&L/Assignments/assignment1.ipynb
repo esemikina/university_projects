{
 "cells": [
  {
   "attachments": {},
   "cell_type": "markdown",
   "metadata": {},
   "source": [
    "Yelizaveta Semikina."
   ]
  },
  {
   "attachments": {},
   "cell_type": "markdown",
   "metadata": {},
   "source": [
    "Exercise 1 (10 points)\n",
    "Print the following text:\n",
    "• It’s raining now.\n",
    "• “\\\\” is a double backslash\n",
    "• 1 2 3 (Note: numbers are tab separated)"
   ]
  },
  {
   "cell_type": "code",
   "execution_count": 6,
   "metadata": {},
   "outputs": [
    {
     "name": "stdout",
     "output_type": "stream",
     "text": [
      "It's raining now.\n",
      "\"\\\\\" is a double backslash\n",
      "1\t2\t3\n"
     ]
    }
   ],
   "source": [
    "print(\"It's raining now.\")\n",
    "print(\"\\\"\\\\\\\\\\\" is a double backslash\")\n",
    "print(\"1\\t2\\t3\")"
   ]
  },
  {
   "cell_type": "markdown",
   "metadata": {},
   "source": [
    "Exercise 2 (10 points)\n",
    "Write a program using user input function and arithmetic operators to do the following tasks.\n",
    "1) Obtain two integer inputs from users: X and Y\n",
    "2) Print out results for the equations (X+Y)/(X-Y) and (X-Y)^3\n",
    "3) Print out the last digit of X+Y\n",
    "Example: (texts in blue are inputs from users)\n",
    "Enter X: 15\n",
    "Enter Y: 10\n",
    "(X+Y)/(X-Y) = 5\n",
    "(X-Y)^3 = 125\n",
    "The last digit of X+Y is: 5 "
   ]
  },
  {
   "cell_type": "code",
   "execution_count": 5,
   "metadata": {},
   "outputs": [
    {
     "name": "stdout",
     "output_type": "stream",
     "text": [
      "Result 1: \n",
      " -3.0\n",
      "Result 2: \n",
      " -1.0\n",
      "The last 1 digit \n",
      " 3\n"
     ]
    }
   ],
   "source": [
    "x = float(input('Insert your first number here: '))\n",
    "y = float(input('Insert your second number here: '))\n",
    "print('Result 1: \\n', (x + y) / (x - y))\n",
    "print('Result 2: \\n', (x - y)**3)\n",
    "print('The last 1 digit \\n', int((x + y)%10))\n"
   ]
  },
  {
   "attachments": {},
   "cell_type": "markdown",
   "metadata": {},
   "source": [
    "Exercise 3 (25 points)\n",
    "Write a program to compute roots of quadratic equations.\n",
    "1) Obtain three numbers from users: a, b, c\n",
    "2) Check whether the quadratic equation 𝑎𝑥\n",
    "2 + 𝑏𝑥 + 𝑐 has real number roots. If yes, calculate the print\n",
    "the two roots; otherwise, print “No solution”.\n",
    "[Hint: Recall that the roots of a quadratic equation 𝑎𝑥\n",
    "2 + 𝑏𝑥 + 𝑐 are 𝑥 = −𝑏±√𝑏2−4𝑎𝑐/2𝑎. To get a square\n",
    "root of a number (N) in Python, use math.sqrt(N). Note: To use all math functions, please add import\n",
    "math at the beginning of your code. For example, if I want to get the square root of 16, you can use the\n",
    "following code.\n",
    "import math\n",
    "print(math.sqrt(16)) # will output 4.0]\n",
    "Example 1: (texts in blue are inputs from users):\n",
    "Enter a: 1\n",
    "Enter b: 1\n",
    "Enter c: 1\n",
    "No solution\n",
    "Example 2:\n",
    "Enter a: 1\n",
    "Enter b: -8\n",
    "Enter c: 15\n",
    "The roots are 3 and 5"
   ]
  },
  {
   "cell_type": "code",
   "execution_count": 9,
   "metadata": {},
   "outputs": [
    {
     "name": "stdout",
     "output_type": "stream",
     "text": [
      "The roots are: 5.0 and 3.0\n"
     ]
    }
   ],
   "source": [
    "import math\n",
    "\n",
    "a = float(input(\"Enter a: \"))\n",
    "b = float(input(\"Enter b: \"))\n",
    "c = float(input(\"Enter c: \"))\n",
    "\n",
    "discriminant = b**2 - 4*a*c\n",
    "if discriminant >= 0:\n",
    "    root1 = (-b + math.sqrt(discriminant)) / (2*a)\n",
    "    root2 = (-b - math.sqrt(discriminant)) / (2*a)\n",
    "    print(\"The roots are:\", root1, \"and\", root2)\n",
    "else:\n",
    "    print(\"No solution\")"
   ]
  },
  {
   "attachments": {},
   "cell_type": "markdown",
   "metadata": {},
   "source": [
    "Exercise 4 (25 points)\n",
    "Write a program using conditional statements and user input function to convert temperatures between\n",
    "Celsius and Fahrenheit. [Hint: Celsius/5 = (Fahrenheit – 32)/9]\n",
    "Example 1:\n",
    "Please enter the temperature: 60\n",
    "Is this Celsius or Fahrenheit? C\n",
    "60C is 140 in Fahrenheit \n",
    "Example 2:\n",
    "Please enter the temperature: 45\n",
    "Is this Celsius or Fahrenheit? F\n",
    "45F is 7 in Celsius"
   ]
  },
  {
   "cell_type": "code",
   "execution_count": 21,
   "metadata": {},
   "outputs": [
    {
     "name": "stdout",
     "output_type": "stream",
     "text": [
      "60.00°C is 140°F\n"
     ]
    }
   ],
   "source": [
    "def celsius_to_fahrenheit(celsius_temp):\n",
    "    return (celsius_temp * 9 / 5) + 32\n",
    "def fahrenheit_to_celsius(fahrenheit_temp):\n",
    "    return (fahrenheit_temp - 32) * 5 / 9\n",
    "\n",
    "temp = float(input(\"Enter the temperature: \"))\n",
    "temp_type = input(\"Enter the temperature type (C for Celsius, F for Fahrenheit): \")\n",
    "\n",
    "if temp_type.upper() == \"C\":\n",
    "    result = celsius_to_fahrenheit(temp)\n",
    "    print(\"%.1i°C is %.1i°F\" % (temp, result))\n",
    "elif temp_type.upper() == \"F\":\n",
    "    result = fahrenheit_to_celsius(temp)\n",
    "    print(\"%.1i°F is %.1i°C\" % (temp, result))\n",
    "else:\n",
    "    print(\"Invalid temperature type\")"
   ]
  },
  {
   "attachments": {},
   "cell_type": "markdown",
   "metadata": {},
   "source": [
    "Exercise 5 (30 points)\n",
    "Write a program using conditional statements and user input function to generate the outcome of the rock,\n",
    "scissors, paper game. The only valid inputs are rock, paper, and scissors. If the user enters anything else,\n",
    "your program should output “invalid input”.\n",
    "Example 1:\n",
    "Player 1: rock\n",
    "Player 2: paper\n",
    "Player 2 wins\n",
    "Example 2:\n",
    "Player 1: paper\n",
    "Player 2: paper\n",
    "Tie, no winer"
   ]
  },
  {
   "cell_type": "code",
   "execution_count": 26,
   "metadata": {},
   "outputs": [
    {
     "name": "stdout",
     "output_type": "stream",
     "text": [
      "Player 2 wins\n"
     ]
    }
   ],
   "source": [
    "player1 = input(\"Player 1, enter rock, paper, or scissors: \").lower()\n",
    "player2 = input(\"Player 2, enter rock, paper, or scissors: \").lower()\n",
    "\n",
    "if player1 not in [\"rock\", \"paper\", \"scissors\"] or player2 not in [\"rock\", \"paper\", \"scissors\"]:\n",
    "    print(\"Invalid input\")\n",
    "else:\n",
    "    if player1 == player2:\n",
    "        print(\"Tie, no winer\")\n",
    "    elif player1 == \"rock\":\n",
    "        if player2 == \"scissors\":\n",
    "            print(\"Player 1 wins\")\n",
    "        else:\n",
    "            print(\"Player 2 wins\")\n",
    "    elif player1 == \"paper\":\n",
    "        if player2 == \"rock\":\n",
    "            print(\"Player 1 wins\")\n",
    "        else:\n",
    "            print(\"Player 2 wins\")\n",
    "    else:\n",
    "        if player2 == \"paper\":\n",
    "            print(\"Player 1 wins\")\n",
    "        else:\n",
    "            print(\"Player 2 wins\")"
   ]
  }
 ],
 "metadata": {
  "kernelspec": {
   "display_name": "Python 3",
   "language": "python",
   "name": "python3"
  },
  "language_info": {
   "codemirror_mode": {
    "name": "ipython",
    "version": 3
   },
   "file_extension": ".py",
   "mimetype": "text/x-python",
   "name": "python",
   "nbconvert_exporter": "python",
   "pygments_lexer": "ipython3",
   "version": "3.11.0 (v3.11.0:deaf509e8f, Oct 24 2022, 14:43:23) [Clang 13.0.0 (clang-1300.0.29.30)]"
  },
  "orig_nbformat": 4,
  "vscode": {
   "interpreter": {
    "hash": "aee8b7b246df8f9039afb4144a1f6fd8d2ca17a180786b69acc140d282b71a49"
   }
  }
 },
 "nbformat": 4,
 "nbformat_minor": 2
}
