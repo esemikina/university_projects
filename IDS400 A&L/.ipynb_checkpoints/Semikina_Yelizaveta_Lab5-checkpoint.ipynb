{
 "cells": [
  {
   "cell_type": "markdown",
   "metadata": {},
   "source": [
    "Lab Type\n",
    "\n",
    "Yelizaveta Semikina"
   ]
  },
  {
   "cell_type": "markdown",
   "metadata": {},
   "source": [
    "Exercise 1.\n",
    "Write a Python program that prints each item and its corresponding type from the\n",
    "following list.\n",
    "Sample List:\n",
    "datalist = [1452, 11.23, 1+2j, True, ‘UIC’, (0, -1), [5, 12], {\"class\":496, \"section\":'A'}]\n",
    "Output: int, float, complex, bool, str, tuple, list, dict"
   ]
  },
  {
   "cell_type": "code",
   "execution_count": 2,
   "metadata": {},
   "outputs": [
    {
     "name": "stdout",
     "output_type": "stream",
     "text": [
      "Type of  1  is  <class 'int'>\n",
      "Type of  34  is  <class 'int'>\n",
      "Type of  67  is  <class 'int'>\n",
      "Type of  8  is  <class 'int'>\n",
      "Type of  True  is  <class 'bool'>\n",
      "Type of  (-1, -1, 3)  is  <class 'tuple'>\n",
      "Type of  {'student': 'Mike', 'class': 'A'}  is  <class 'dict'>\n",
      "Type of  [5, 12]  is  <class 'list'>\n",
      "Type of  python  is  <class 'str'>\n"
     ]
    }
   ],
   "source": [
    "list = [1, 34, 67, 8, True, (-1, -1, 3), {\"student\":'Mike', \"class\":'A'}, [5, 12], \"python\"]\n",
    "for i in list:\n",
    "    print(\"Type of \", i, \" is \", type(i))\n"
   ]
  },
  {
   "cell_type": "markdown",
   "metadata": {},
   "source": [
    "Exercise 2.\n",
    "Write a program that accepts a sentence from the keyboard, calculate and print out each\n",
    "unique character and its corresponding number of occurrences. Don’t count spaces.\n",
    "For example, if the input sentence is: the world is beautiful!, then the output should be the\n",
    "following:\n",
    "{'t': 2, 'h': 1, 'e': 2, 'w': 1, 'o': 1, 'r': 1, 'l': 2, 'd': 1, 'i': 2, 's': 1, 'b': 1, 'a': 1, 'u': 2, 'f': 1, '!': 1}\n",
    "Hint:\n",
    "1) use index to get a character in a string\n",
    "2) use dictionary to store characters and their corresponding values (# of appearance)"
   ]
  },
  {
   "cell_type": "code",
   "execution_count": 3,
   "metadata": {},
   "outputs": [
    {
     "name": "stdout",
     "output_type": "stream",
     "text": [
      " length of the sentence: 25\n"
     ]
    }
   ],
   "source": [
    "sentence = input(\"insert a sentence: \")\n",
    "print(f\" length of the sentence: {len(sentence)}\")\n",
    "\n",
    "dictionary = dict()\n",
    "\n",
    "for i in range(len(sentence)):\n",
    "    char = sentence[i]\n",
    "    if char != ' ':\n",
    "        if char not in dictionary:\n",
    "            dictionary[char] = 0\n",
    "        dictionary[char] +=1\n",
    "        "
   ]
  },
  {
   "cell_type": "code",
   "execution_count": 4,
   "metadata": {},
   "outputs": [
    {
     "name": "stdout",
     "output_type": "stream",
     "text": [
      "occurances of character t: 2\n",
      "occurances of character h: 1\n",
      "occurances of character e: 2\n",
      "occurances of character w: 1\n",
      "occurances of character o: 1\n",
      "occurances of character r: 1\n",
      "occurances of character l: 2\n",
      "occurances of character d: 1\n",
      "occurances of character i: 2\n",
      "occurances of character s: 1\n",
      "occurances of character b: 1\n",
      "occurances of character a: 1\n",
      "occurances of character u: 2\n",
      "occurances of character f: 1\n",
      "occurances of character !: 3\n",
      "sum is:  22\n"
     ]
    }
   ],
   "source": [
    "sum = 0 \n",
    "for char, count in dictionary.items():\n",
    "    sum += count\n",
    "    print(f\"occurances of character {char}: {count}\")\n",
    "\n",
    "print(\"sum is: \", sum)"
   ]
  }
 ],
 "metadata": {
  "kernelspec": {
   "display_name": "Python 3 (ipykernel)",
   "language": "python",
   "name": "python3"
  },
  "language_info": {
   "codemirror_mode": {
    "name": "ipython",
    "version": 3
   },
   "file_extension": ".py",
   "mimetype": "text/x-python",
   "name": "python",
   "nbconvert_exporter": "python",
   "pygments_lexer": "ipython3",
   "version": "3.9.7"
  },
  "vscode": {
   "interpreter": {
    "hash": "aee8b7b246df8f9039afb4144a1f6fd8d2ca17a180786b69acc140d282b71a49"
   }
  }
 },
 "nbformat": 4,
 "nbformat_minor": 2
}
