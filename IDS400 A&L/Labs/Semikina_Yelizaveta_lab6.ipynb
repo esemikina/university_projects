{
 "cells": [
  {
   "cell_type": "markdown",
   "metadata": {},
   "source": [
    "Lab Function"
   ]
  },
  {
   "cell_type": "markdown",
   "metadata": {},
   "source": [
    "1. Write a Python function to find the maximum number in a number list\n",
    "without using max() function.\n",
    "Function name: get_sum()\n",
    "Parameters: list lst\n",
    "Return: the maximum number in the list.\n",
    "Sample run:\n",
    "print(get_num( [8, 2, 3, 0, 7]))\n",
    "8"
   ]
  },
  {
   "cell_type": "code",
   "execution_count": 1,
   "metadata": {},
   "outputs": [
    {
     "name": "stdout",
     "output_type": "stream",
     "text": [
      "1\n"
     ]
    }
   ],
   "source": [
    "list = [2, 3, 5, 10, 4, 1]\n",
    "max = 0\n",
    "\n",
    "for i in list:\n",
    "    if i > max:\n",
    "        max = 1\n",
    "print(max)"
   ]
  },
  {
   "cell_type": "markdown",
   "metadata": {},
   "source": [
    "2. Write a Python function to swap the values of two strings and print out\n",
    "their new values.\n",
    "Function name: swap()\n",
    "Parameters: string a, string b\n",
    "Return: None\n",
    "Sample run:\n",
    "swap (‘abc’, ‘123’)\n",
    "‘123’, ‘abc’"
   ]
  },
  {
   "cell_type": "code",
   "execution_count": 6,
   "metadata": {},
   "outputs": [
    {
     "name": "stdout",
     "output_type": "stream",
     "text": [
      "('Python', 'hello')\n"
     ]
    }
   ],
   "source": [
    "def swapping(x,y):\n",
    "    return y, x\n",
    "\n",
    "swap = swapping('hello', 'Python')\n",
    "print(swap)\n",
    "\n"
   ]
  },
  {
   "cell_type": "markdown",
   "metadata": {},
   "source": [
    "3. Write a Python function to reverse a string.\n",
    "Function name: reverse_string()\n",
    "Parameters: string s\n",
    "Return: the reversed string.\n",
    "Sample run:\n",
    "Print(reverse_string(\"1234abcd\"))\n",
    "\"dcba4321"
   ]
  },
  {
   "cell_type": "code",
   "execution_count": 4,
   "metadata": {},
   "outputs": [],
   "source": [
    "def reverse(str):\n",
    "    i = str\n",
    "    reverse_i = i[::-1]\n",
    "    return reverse_i"
   ]
  },
  {
   "cell_type": "code",
   "execution_count": 5,
   "metadata": {},
   "outputs": [
    {
     "data": {
      "text/plain": [
       "'dcba4321'"
      ]
     },
     "execution_count": 5,
     "metadata": {},
     "output_type": "execute_result"
    }
   ],
   "source": [
    "reverse('1234abcd')"
   ]
  }
 ],
 "metadata": {
  "kernelspec": {
   "display_name": "Python 3 (ipykernel)",
   "language": "python",
   "name": "python3"
  },
  "language_info": {
   "codemirror_mode": {
    "name": "ipython",
    "version": 3
   },
   "file_extension": ".py",
   "mimetype": "text/x-python",
   "name": "python",
   "nbconvert_exporter": "python",
   "pygments_lexer": "ipython3",
   "version": "3.11.0"
  },
  "vscode": {
   "interpreter": {
    "hash": "aee8b7b246df8f9039afb4144a1f6fd8d2ca17a180786b69acc140d282b71a49"
   }
  }
 },
 "nbformat": 4,
 "nbformat_minor": 2
}
