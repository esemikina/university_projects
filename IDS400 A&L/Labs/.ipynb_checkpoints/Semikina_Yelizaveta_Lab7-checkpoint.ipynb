{
 "cells": [
  {
   "cell_type": "markdown",
   "metadata": {},
   "source": [
    "Lab File"
   ]
  },
  {
   "cell_type": "markdown",
   "metadata": {},
   "source": [
    "1. Write a Python program and perform the following steps:\n",
    "a. Read the temp.txt file\n",
    "b. Save the contents of temp.txt file in a list\n",
    "c. Write the contents into a new file"
   ]
  },
  {
   "cell_type": "code",
   "execution_count": 1,
   "metadata": {},
   "outputs": [],
   "source": [
    "with open('/Users/liza/Desktop/IDS400 A&L/Labs/temp.txt', 'r') as f:\n",
    "    file_contents = f.readlines()\n",
    "\n",
    "with open('new_file.txt', 'w') as f:\n",
    "    f.writelines(file_contents)"
   ]
  },
  {
   "cell_type": "markdown",
   "metadata": {},
   "source": [
    "2. Word count\n",
    "Write a Python program to compute the frequency of words from the artical.txt\n",
    "file. The output should print the result after sorting the words alphanumerically in\n",
    "ascending order in the format of a dictionary. Suppose the article (including\n",
    "multiple sentences) is obtained from file reading.\n",
    "Example:\n",
    "Read article.txt:\n",
    "Beginner means someone who has just gone through an introductory Python\n",
    "course. He can solve some problems with 1 or 2 Python classes or functions.\n",
    "Normally, ……\n",
    "Output:\n",
    "{1: 1, 2: 1, a: 1, already: 1, an: 1, …}\n",
    "Note:\n",
    "• Your program should be case-insensitive.\n",
    "• To remove punctuation: https://towardsdatascience.com/how-toefficiently-remove-punctuations-from-a-string-899ad4a059fb"
   ]
  },
  {
   "cell_type": "code",
   "execution_count": 4,
   "metadata": {},
   "outputs": [
    {
     "name": "stdout",
     "output_type": "stream",
     "text": [
      "{'1': 1, '2': 1, 'a': 1, 'already': 1, 'an': 1, 'answers': 1, 'background': 1, 'be': 1, 'before': 1, 'beginner': 1, 'but': 1, 'can': 1, 'classes': 1, 'could': 1, 'course': 1, 'directly': 1, 'found': 1, 'from': 1, 'functions': 1, 'gone': 1, 'has': 3, 'he': 1, 'in': 1, 'intermediate': 1, 'introductory': 1, 'just': 2, 'learned': 1, 'means': 2, 'normally': 1, 'or': 2, 'problems': 1, 'programming': 1, 'python': 3, 'relatively': 1, 'solve': 1, 'some': 1, 'someone': 2, 'strong': 1, 'textbooks': 1, 'the': 2, 'through': 1, 'who': 2, 'with': 1}\n"
     ]
    }
   ],
   "source": [
    "import string\n",
    "\n",
    "with open('/Users/liza/Desktop/IDS400 A&L/Labs/article.txt', 'r') as f:\n",
    "    text = f.read()\n",
    "\n",
    "text = text.translate(str.maketrans('', '', string.punctuation))\n",
    "\n",
    "text = text.lower()\n",
    "\n",
    "words = text.split()\n",
    "\n",
    "word_counts = {}\n",
    "\n",
    "for word in words:\n",
    "    if word in word_counts:\n",
    "        word_counts[word] += 1\n",
    "    else:\n",
    "        word_counts[word] = 1\n",
    "\n",
    "sorted_word_counts = dict(sorted(word_counts.items()))\n",
    "\n",
    "print(sorted_word_counts)\n"
   ]
  }
 ],
 "metadata": {
  "kernelspec": {
   "display_name": "Python 3 (ipykernel)",
   "language": "python",
   "name": "python3"
  },
  "language_info": {
   "codemirror_mode": {
    "name": "ipython",
    "version": 3
   },
   "file_extension": ".py",
   "mimetype": "text/x-python",
   "name": "python",
   "nbconvert_exporter": "python",
   "pygments_lexer": "ipython3",
   "version": "3.9.7"
  }
 },
 "nbformat": 4,
 "nbformat_minor": 2
}
