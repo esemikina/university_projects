{
 "cells": [
  {
   "cell_type": "markdown",
   "metadata": {},
   "source": [
    "1. Numbers in one line: Print out the following numbers in one line using loop.\n",
    "1 2 3 4 5 6 7 8 9 10"
   ]
  },
  {
   "cell_type": "code",
   "execution_count": 15,
   "metadata": {},
   "outputs": [
    {
     "name": "stdout",
     "output_type": "stream",
     "text": [
      "1 2 3 4 5 6 7 8 9 10 "
     ]
    }
   ],
   "source": [
    "for i in range(1, 11):\n",
    "    print(i, end=' ')"
   ]
  },
  {
   "cell_type": "markdown",
   "metadata": {},
   "source": [
    "2. Reverse Triangle: Print out a reverse triangle using loop. Print the following message:"
   ]
  },
  {
   "cell_type": "code",
   "execution_count": 1,
   "metadata": {},
   "outputs": [
    {
     "name": "stdout",
     "output_type": "stream",
     "text": [
      "* * * * * * * * * * \n",
      "  * * * * * * * * * \n",
      "    * * * * * * * * \n",
      "      * * * * * * * \n",
      "        * * * * * * \n",
      "          * * * * * \n",
      "            * * * * \n",
      "              * * * \n",
      "                * * \n",
      "                  * \n"
     ]
    }
   ],
   "source": [
    "for i in range (10):\n",
    "    for j in range (10):\n",
    "        if j<i:\n",
    "            print(' ', end=' ')\n",
    "        else:\n",
    "            print('*', end=' ')\n",
    "    print()\n"
   ]
  },
  {
   "cell_type": "markdown",
   "metadata": {},
   "source": [
    "3. Pyramid: Print a pyramid using loop:"
   ]
  },
  {
   "cell_type": "code",
   "execution_count": 32,
   "metadata": {},
   "outputs": [
    {
     "name": "stdout",
     "output_type": "stream",
     "text": [
      "*******************\n"
     ]
    }
   ],
   "source": [
    "rows=10\n",
    "\n",
    "for i in range(rows+1):\n",
    "    for j in range(rows-i+1):\n",
    "        print(end=\"\")\n",
    "\n",
    "for h in range(2*i-1):\n",
    "    print(\"*\", end=\"\")\n",
    "print()"
   ]
  },
  {
   "cell_type": "markdown",
   "metadata": {},
   "source": [
    "4. Diamond: Print a Diamond:"
   ]
  },
  {
   "cell_type": "code",
   "execution_count": 34,
   "metadata": {},
   "outputs": [
    {
     "name": "stdout",
     "output_type": "stream",
     "text": [
      "      *\n",
      "     ***\n",
      "    *****\n",
      "   *******\n",
      "  *********\n",
      " ***********\n",
      "*************\n",
      " ***********\n",
      "  *********\n",
      "   *******\n",
      "    *****\n",
      "     ***\n",
      "      *\n"
     ]
    }
   ],
   "source": [
    "row=7\n",
    "for  i in range(1, row+1):\n",
    "    for j in range(1, row-i+1):\n",
    "        print(\" \",end=\"\")\n",
    "    for j in range(1, 2*i):\n",
    "        print(\"*\", end=\"\")\n",
    "    print()\n",
    "\n",
    "for i in range(row-1,0,-1):\n",
    "    for j in range(1,row-i+1):\n",
    "        print(\" \",end=\"\")\n",
    "    for j in range(1, 2*i):\n",
    "        print(\"*\", end=\"\")\n",
    "    print()"
   ]
  },
  {
   "cell_type": "markdown",
   "metadata": {},
   "source": [
    "5. Guess game: Computer will randomly generate a number between 0 and 1000, and you\n",
    "will make a guess about this number. Python will give feedback based on the number you\n",
    "entered. For instance, if the randomly generated number is 5, and you guess 6, python\n",
    "will print “Try a smaller number”. Then you guess 4, then Python will print “Try a larger\n",
    "number”. If you guess 5, Python will print “Bingo!”. If you guess it right in 10 guesses,\n",
    "python prints “Wonderful Job”; within 20, prints “Good Job”; otherwise, print “Try to do\n",
    "better next time.”"
   ]
  },
  {
   "cell_type": "code",
   "execution_count": null,
   "metadata": {},
   "outputs": [
    {
     "name": "stdout",
     "output_type": "stream",
     "text": [
      "Guess a number:\n"
     ]
    }
   ],
   "source": [
    "import random \n",
    "number=random.randint(0, 1000) \n",
    "\n",
    "number_of_guesses = 0\n",
    "print('Guess a number:') \n",
    " \n",
    "while number_of_guesses < 20: \n",
    "    guess = int(input()) \n",
    "    number_of_guesses += 1 \n",
    "    if guess < number: \n",
    "        print(  'Try a larger number') \n",
    "    if guess > number: \n",
    "        print('Try a smaller number')\n",
    "    if guess == number: \n",
    "        print(\"Bingo!\") \n",
    "        break \n",
    "\n",
    "if guess == number and number_of_guesses < 10: \n",
    "    print('Wonderful job!') \n",
    "elif  guess == number and number_of_guesses < 20: \n",
    "    print('Good job!') \n",
    "elif guess == number and number_of_guesses > 20: \n",
    "    print('Do better next time!') \n",
    "else: print('Try to do better next time.')"
   ]
  },
  {
   "cell_type": "code",
   "execution_count": null,
   "metadata": {},
   "outputs": [],
   "source": []
  }
 ],
 "metadata": {
  "kernelspec": {
   "display_name": "Python 3 (ipykernel)",
   "language": "python",
   "name": "python3"
  },
  "language_info": {
   "codemirror_mode": {
    "name": "ipython",
    "version": 3
   },
   "file_extension": ".py",
   "mimetype": "text/x-python",
   "name": "python",
   "nbconvert_exporter": "python",
   "pygments_lexer": "ipython3",
   "version": "3.9.7"
  },
  "vscode": {
   "interpreter": {
    "hash": "7e1998ff7f8aa20ada591c520b972326324e5ea05489af9e422744c7c09f6dad"
   }
  }
 },
 "nbformat": 4,
 "nbformat_minor": 2
}
