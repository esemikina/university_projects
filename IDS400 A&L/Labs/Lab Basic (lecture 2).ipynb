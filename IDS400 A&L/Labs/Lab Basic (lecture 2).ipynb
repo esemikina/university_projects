{
 "cells": [
  {
   "cell_type": "markdown",
   "id": "e8261fe4-2f92-4e79-a4d6-99a328a0d162",
   "metadata": {},
   "source": [
    "1.Print the following text:"
   ]
  },
  {
   "cell_type": "code",
   "execution_count": null,
   "id": "76650b21-0a4d-45df-9377-4d4683ca5032",
   "metadata": {},
   "outputs": [],
   "source": [
    "print('Hello world!')\n",
    "print('Hello, \\'word!')\n",
    "print('Hello\\tword')\n",
    "print('Hello\\nworld')"
   ]
  },
  {
   "cell_type": "markdown",
   "id": "c52eaa83-fc3a-4dd7-a0f2-d90ad2f3fe66",
   "metadata": {},
   "source": [
    "2. Arithmetic operators and type conversion\n",
    "Assume the following values: x=7, y=3, m=’2.7’\n",
    "Print the following information:\n",
    "• The sum of x and y\n",
    "• The division of x by y\n",
    "• The division of x by y and only take the floor of the result\n",
    "• The remainder of x divided by y.\n",
    "• The type of m.\n",
    "• The sum of y and m (after type conversion)"
   ]
  },
  {
   "cell_type": "code",
   "execution_count": 14,
   "id": "c2187e74-bb7f-45b8-ae48-83acc13c3e11",
   "metadata": {},
   "outputs": [
    {
     "name": "stdout",
     "output_type": "stream",
     "text": [
      "10\n",
      "2.3333333333333335\n",
      "2\n",
      "1\n",
      "<class 'str'>\n",
      "5.7\n"
     ]
    }
   ],
   "source": [
    "x=7\n",
    "y=3\n",
    "m='2.7'\n",
    "\n",
    "# The sum of x and y\n",
    "print(x + y)\n",
    "\n",
    "# The division of x by y\n",
    "print(x / y)\n",
    "\n",
    "# The division of x by y and only take the floor of the result\n",
    "print(x // y)\n",
    "\n",
    "# The remainder of x divided by y\n",
    "print(x % y)\n",
    "\n",
    "# The type of m\n",
    "print(type(m))\n",
    "\n",
    "# The sum of y and m (after type conversion)\n",
    "print(y + float(m))\n"
   ]
  },
  {
   "cell_type": "markdown",
   "id": "d7efe4ba-3da4-416b-8830-b6d129f45f28",
   "metadata": {
    "tags": []
   },
   "source": [
    "\n"
   ]
  },
  {
   "cell_type": "markdown",
   "id": "a4daec44-52e5-44b5-b83b-8f63888eaa62",
   "metadata": {},
   "source": [
    "3. With your own input\n",
    "Assign value of x and y during execution of the program (user input). Then print the sum of x and\n",
    "y, and the division of x by y."
   ]
  },
  {
   "cell_type": "code",
   "execution_count": 1,
   "id": "c7f46df0-1616-404b-96ce-4b2a3e1acfb5",
   "metadata": {},
   "outputs": [
    {
     "name": "stdout",
     "output_type": "stream",
     "text": [
      "This is the sum: \n",
      " 3.0\n",
      "This is the division: \n",
      " 0.5\n"
     ]
    }
   ],
   "source": [
    "x=input('Insert your first number here: ')\n",
    "y=input('Insert your second number here: ')\n",
    "print('This is the sum: \\n', float(x)+float(y))\n",
    "print('This is the division: \\n',float(x)/float(y))"
   ]
  },
  {
   "cell_type": "markdown",
   "id": "42bf5833-abf0-4cc9-8a0c-cfbf8a06ca77",
   "metadata": {},
   "source": [
    "4. Comparison operators\n",
    "a=10, b=7. Check whether each one of the following statements is true. Please label what is the\n",
    "comparison that you are executing.\n",
    "• a>b?\n",
    "• a equals b?\n",
    "• a not equal to b?"
   ]
  },
  {
   "cell_type": "code",
   "execution_count": 17,
   "id": "c48fe9d0-8a5b-4a98-a546-f8b26034eccb",
   "metadata": {},
   "outputs": [
    {
     "name": "stdout",
     "output_type": "stream",
     "text": [
      "a > b is True\n",
      "a == b is False\n",
      "a != b is True\n"
     ]
    }
   ],
   "source": [
    "a = 10\n",
    "b = 7\n",
    "\n",
    "# Greater than comparison\n",
    "print(\"a > b is\", a > b) # True\n",
    "\n",
    "# Equal to comparison\n",
    "print(\"a == b is\", a == b) # False\n",
    "\n",
    "# Not equal to comparison\n",
    "print(\"a != b is\", a != b) # True"
   ]
  },
  {
   "cell_type": "markdown",
   "id": "276d48d4-8a24-47df-af38-187fd37bb6c5",
   "metadata": {},
   "source": [
    "5. Logical operator\n",
    "Given the value of a and b in previous question, find out whether the following statement is true\n",
    "• Variable a is greater than or equal to b, and a is greater than 5\n",
    "• Variable a is less than or equal to b, or the value of a is greater than 5\n",
    "• What is the value of ‘not a’?"
   ]
  },
  {
   "cell_type": "code",
   "execution_count": 18,
   "id": "ef723722-2b0c-4b85-9b8d-3f4ff8bc4ec3",
   "metadata": {},
   "outputs": [
    {
     "name": "stdout",
     "output_type": "stream",
     "text": [
      "a >= b and a > 5 is: True\n",
      "a <= b or a > 5 is: True\n",
      "not a is: False\n"
     ]
    }
   ],
   "source": [
    "a = 10\n",
    "b = 7\n",
    "\n",
    "# Greater than or equal to comparison and greater than 5\n",
    "print(\"a >= b and a > 5 is:\", (a >= b) and (a > 5)) # True\n",
    "\n",
    "# Less than or equal to comparison or greater than 5\n",
    "print(\"a <= b or a > 5 is:\", (a <= b) or (a > 5)) # True\n",
    "\n",
    "# Not a\n",
    "print(\"not a is:\", not a) # False"
   ]
  },
  {
   "cell_type": "markdown",
   "id": "2c417d14-d19c-4e42-9836-0117b15a391e",
   "metadata": {},
   "source": [
    "6. Precedence of operators\n",
    "Given the value of a and b in previous question, evaluate each one of the expression, and then\n",
    "enter in Python to see if your calculation is correct:\n",
    "• (a+b)>15 or (a-b)< 8\n",
    "• (a+b)>15 or ((a-b)<8 and False)\n",
    "• a+b>15-2*2**4/4 and (not False)"
   ]
  },
  {
   "cell_type": "code",
   "execution_count": 19,
   "id": "58de779a-fce1-4c10-87eb-ab53e8b3baed",
   "metadata": {},
   "outputs": [
    {
     "name": "stdout",
     "output_type": "stream",
     "text": [
      "(a+b)>15 or (a-b)< 8 is: True\n",
      "(a+b)>15 or ((a-b)<8 and False) is: True\n",
      "a+b>15-2*2**4/4 and (not False) is: True\n"
     ]
    }
   ],
   "source": [
    "a = 10\n",
    "b = 7\n",
    "\n",
    "# (a+b)>15 or (a-b)< 8\n",
    "print(\"(a+b)>15 or (a-b)< 8 is:\", (a+b)>15 or (a-b)< 8) # True\n",
    "\n",
    "# (a+b)>15 or ((a-b)<8 and False)\n",
    "print(\"(a+b)>15 or ((a-b)<8 and False) is:\", (a+b)>15 or ((a-b)<8 and False)) # True\n",
    "\n",
    "# a+b>15-2*2**4/4 and (not False)\n",
    "print(\"a+b>15-2*2**4/4 and (not False) is:\", (a+b)>15-2*2**4/4 and (not False)) # True"
   ]
  },
  {
   "cell_type": "markdown",
   "id": "394112d4-8dcf-422b-b03d-0abef628257b",
   "metadata": {},
   "source": [
    "7. Modulus operator\n",
    "Given an integer number during execution (user input), find the last two digits of this number."
   ]
  },
  {
   "cell_type": "code",
   "execution_count": 23,
   "id": "ed3168a8-7af7-4952-81a1-c6e6e88b82b0",
   "metadata": {},
   "outputs": [
    {
     "name": "stdout",
     "output_type": "stream",
     "text": [
      "Insert a number:  1234567896543\n"
     ]
    },
    {
     "name": "stdout",
     "output_type": "stream",
     "text": [
      "The last 2 digits equals \n",
      " 43\n",
      "The last 2 digits via another method equals\n",
      "  43\n"
     ]
    }
   ],
   "source": [
    "x=input('Insert a number: ')\n",
    "print('The last 2 digits equals \\n', int(x)%100)\n",
    "print('The last 2 digits via another method equals\\n ',int(str(x)[-2:]))"
   ]
  }
 ],
 "metadata": {
  "kernelspec": {
   "display_name": "Python 3.11.0 64-bit",
   "language": "python",
   "name": "python3"
  },
  "language_info": {
   "codemirror_mode": {
    "name": "ipython",
    "version": 3
   },
   "file_extension": ".py",
   "mimetype": "text/x-python",
   "name": "python",
   "nbconvert_exporter": "python",
   "pygments_lexer": "ipython3",
   "version": "3.11.0 (v3.11.0:deaf509e8f, Oct 24 2022, 14:43:23) [Clang 13.0.0 (clang-1300.0.29.30)]"
  },
  "vscode": {
   "interpreter": {
    "hash": "aee8b7b246df8f9039afb4144a1f6fd8d2ca17a180786b69acc140d282b71a49"
   }
  }
 },
 "nbformat": 4,
 "nbformat_minor": 5
}
