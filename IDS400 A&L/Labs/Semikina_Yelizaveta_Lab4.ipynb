{
 "cells": [
  {
   "cell_type": "markdown",
   "metadata": {},
   "source": [
    "Lab String"
   ]
  },
  {
   "cell_type": "markdown",
   "metadata": {},
   "source": [
    "Exercise 1.\n",
    "Write a Python program to print the index of the character in a string. For example, if the string is\n",
    "“Hello”, the output should be:\n",
    "Position 0 character is H\n",
    "Position 1 character is e\n",
    "Position 2 character is l\n",
    "Position 3 character is l\n",
    "Position 4 character is o"
   ]
  },
  {
   "cell_type": "code",
   "execution_count": 1,
   "metadata": {},
   "outputs": [
    {
     "name": "stdout",
     "output_type": "stream",
     "text": [
      "Position0 character is h\n",
      "Position1 character is e\n",
      "Position2 character is l\n",
      "Position3 character is l\n",
      "Position4 character is o\n"
     ]
    }
   ],
   "source": [
    "x=input(\"The word is: \")\n",
    "count=0\n",
    "\n",
    "for i in x:\n",
    "    print('Position' + str(count) + \" character is \"+i)\n",
    "    count=count+1"
   ]
  },
  {
   "cell_type": "markdown",
   "metadata": {},
   "source": [
    "Exercise 2.\n",
    "Write a Python program to find the shortest and longest word in a given sentence.\n",
    "Example:\n",
    "Original Strings:Write a Java program to sort an array of given integers using Quick sort Algorithm.\n",
    "Shortest word: a\n",
    "Longest word: Algorithm."
   ]
  },
  {
   "cell_type": "code",
   "execution_count": 2,
   "metadata": {},
   "outputs": [
    {
     "name": "stdout",
     "output_type": "stream",
     "text": [
      "The longest word: Algorithm.\n",
      "The shortest word: a\n"
     ]
    }
   ],
   "source": [
    "x=input(\"your sentence is: \")\n",
    "words = x.split(' ')\n",
    "\n",
    "max_length = max(words, key = len)\n",
    "min_length = min(words, key = len)\n",
    "\n",
    "print(f\"The longest word: {max_length}\")\n",
    "print(f\"The shortest word: {min_length}\")"
   ]
  }
 ],
 "metadata": {
  "kernelspec": {
   "display_name": "Python 3 (ipykernel)",
   "language": "python",
   "name": "python3"
  },
  "language_info": {
   "codemirror_mode": {
    "name": "ipython",
    "version": 3
   },
   "file_extension": ".py",
   "mimetype": "text/x-python",
   "name": "python",
   "nbconvert_exporter": "python",
   "pygments_lexer": "ipython3",
   "version": "3.9.7"
  },
  "vscode": {
   "interpreter": {
    "hash": "aee8b7b246df8f9039afb4144a1f6fd8d2ca17a180786b69acc140d282b71a49"
   }
  }
 },
 "nbformat": 4,
 "nbformat_minor": 2
}
