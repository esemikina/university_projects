{
 "cells": [
  {
   "attachments": {},
   "cell_type": "markdown",
   "metadata": {},
   "source": [
    "Yelizaveta Semikina."
   ]
  },
  {
   "attachments": {},
   "cell_type": "markdown",
   "metadata": {},
   "source": [
    "1. Take values of length and breadth of a rectangle from user and check if it is\n",
    "square or not."
   ]
  },
  {
   "cell_type": "code",
   "execution_count": 1,
   "metadata": {},
   "outputs": [
    {
     "name": "stdout",
     "output_type": "stream",
     "text": [
      "It is a square.\n"
     ]
    }
   ],
   "source": [
    "length = int(input(\"Enter the length: \"))\n",
    "breadth = int(input(\"Enter the breadth: \"))\n",
    "\n",
    "if length == breadth:\n",
    "    print(\"It is a square.\")\n",
    "else:\n",
    "    print(\"It is not a square.\")"
   ]
  },
  {
   "attachments": {},
   "cell_type": "markdown",
   "metadata": {},
   "source": [
    "2. Given a value of x entered from keyboard, if x is even, print “x (the value of\n",
    "x) is even”, or print “x (the value of x) is odd”"
   ]
  },
  {
   "cell_type": "code",
   "execution_count": 4,
   "metadata": {},
   "outputs": [
    {
     "name": "stdout",
     "output_type": "stream",
     "text": [
      "2  is an even value.\n"
     ]
    }
   ],
   "source": [
    "x = int(input(\"Enter x: \"))\n",
    "\n",
    "if x % 2 == 0:\n",
    "    print(x, \" is an even value.\")\n",
    "else:\n",
    "    print(f'{x} is an odd value.')\n"
   ]
  },
  {
   "attachments": {},
   "cell_type": "markdown",
   "metadata": {},
   "source": [
    "3. Given value of x and y entered from keyboard,\n",
    "•when x<y, print “x is less than y”\n",
    "•when x>y, print “x is greater than y”\n",
    "•Otherwise, print “x and y are equal”"
   ]
  },
  {
   "cell_type": "code",
   "execution_count": 6,
   "metadata": {},
   "outputs": [
    {
     "name": "stdout",
     "output_type": "stream",
     "text": [
      "x is less than y.\n"
     ]
    }
   ],
   "source": [
    "x = int(input(\"Enter x: \"))\n",
    "y = int(input(\"Enter y: \"))\n",
    "\n",
    "if x < y:\n",
    "    print(\"x is less than y.\")\n",
    "elif x > y:\n",
    "    print(\"x is greater than y.\")\n",
    "else:\n",
    "    print(\"x and y are equal.\")"
   ]
  },
  {
   "attachments": {},
   "cell_type": "markdown",
   "metadata": {},
   "source": [
    "4. Given value entered from keyboard,\n",
    "•when 6<=value <10, print “Good Morning”\n",
    "•when 10<=value<12, print “soon time for lunch”\n",
    "•when 12<=value<18, print “Good day”\n",
    "•when 18<=value<22, print “Good evening”\n",
    "•Otherwise, print “Good night”"
   ]
  },
  {
   "cell_type": "code",
   "execution_count": 9,
   "metadata": {},
   "outputs": [
    {
     "name": "stdout",
     "output_type": "stream",
     "text": [
      "Good night\n"
     ]
    }
   ],
   "source": [
    "x = int(input(\"Enter the current time: \"))\n",
    "\n",
    "if 6 <= x < 10:\n",
    "    print(\"Good morning\")\n",
    "elif 10 <= x < 12:\n",
    "    print(\"Soon time for lunch\")\n",
    "elif 12 <= x < 18:\n",
    "    print(\"Good day\")\n",
    "elif 18 <= x < 22:\n",
    "    print(\"Good evening\")\n",
    "else:\n",
    "    print(\"Good night\")"
   ]
  },
  {
   "attachments": {},
   "cell_type": "markdown",
   "metadata": {},
   "source": [
    "5. Given input of two questions from keyboard\n",
    "• Question 1: Please select your year (freshman, sophomore, junior,\n",
    "senior)\n",
    "• Question 2: How many courses have you taken so far\n",
    "If student is freshman, and taking less than 4 courses, print: “take more on your\n",
    "sophomore year”, otherwise print “you are taking enough for the year”.\n",
    "If student is sophomore, print “you have taken n courses” (n is the answer for\n",
    "second question).\n",
    "If student is junior, and if student takes less than 12 courses, print “less than 12\n",
    "courses”, otherwise print “you are taking enough for the year”.\n",
    "If student is senior, and if student takes greater or equal to 16 courses, print “you\n",
    "are good to graduate”, otherwise, print “sorry, you need more courses”.\n",
    "Otherwise, print “the year you entered is incorrect”."
   ]
  },
  {
   "cell_type": "code",
   "execution_count": 11,
   "metadata": {},
   "outputs": [
    {
     "name": "stdout",
     "output_type": "stream",
     "text": [
      "You are taking enough for the year\n"
     ]
    }
   ],
   "source": [
    "year = input(\"Please select your year (freshman, sophomore, junior, senior): \")\n",
    "taken_courses = int(input(\"How many courses have you taken so far: \"))\n",
    "\n",
    "if year == \"freshman\":\n",
    "    if taken_courses < 4:\n",
    "        print(\"Take more on your sophomore year\")\n",
    "    else:\n",
    "        print(\"You are taking enough for the year\")\n",
    "elif year == \"sophomore\":\n",
    "    print(f\"You have taken\", taken_courses, \"courses\")\n",
    "elif year == \"junior\":\n",
    "    if taken_courses < 12:\n",
    "        print(\"Less than 12 courses\")\n",
    "    else:\n",
    "        print(\"You are taking enough for the year\")\n",
    "elif year == \"senior\":\n",
    "    if taken_courses >= 16:\n",
    "        print(\"You are good to graduate\")\n",
    "    else:\n",
    "        print(\"Sorry, you need more courses\")\n",
    "else:\n",
    "    print(\"The year you entered is incorrect\")\n"
   ]
  }
 ],
 "metadata": {
  "kernelspec": {
   "display_name": "Python 3",
   "language": "python",
   "name": "python3"
  },
  "language_info": {
   "codemirror_mode": {
    "name": "ipython",
    "version": 3
   },
   "file_extension": ".py",
   "mimetype": "text/x-python",
   "name": "python",
   "nbconvert_exporter": "python",
   "pygments_lexer": "ipython3",
   "version": "3.11.0 (v3.11.0:deaf509e8f, Oct 24 2022, 14:43:23) [Clang 13.0.0 (clang-1300.0.29.30)]"
  },
  "orig_nbformat": 4,
  "vscode": {
   "interpreter": {
    "hash": "aee8b7b246df8f9039afb4144a1f6fd8d2ca17a180786b69acc140d282b71a49"
   }
  }
 },
 "nbformat": 4,
 "nbformat_minor": 2
}
